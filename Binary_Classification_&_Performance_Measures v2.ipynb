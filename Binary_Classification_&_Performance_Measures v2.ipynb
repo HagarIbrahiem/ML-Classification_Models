{
  "nbformat": 4,
  "nbformat_minor": 0,
  "metadata": {
    "colab": {
      "name": "Binary Classification & Performance Measures.ipynb",
      "provenance": [],
      "collapsed_sections": [],
      "authorship_tag": "ABX9TyNtiga61p6ro+vq53CMA/TC",
      "include_colab_link": true
    },
    "kernelspec": {
      "name": "python3",
      "display_name": "Python 3"
    },
    "language_info": {
      "name": "python"
    }
  },
  "cells": [
    {
      "cell_type": "markdown",
      "metadata": {
        "id": "view-in-github",
        "colab_type": "text"
      },
      "source": [
        "<a href=\"https://colab.research.google.com/github/HagarIbrahiem/ML-Classification_Models/blob/main/Binary_Classification_%26_Performance_Measures%20v2.ipynb\" target=\"_parent\"><img src=\"https://colab.research.google.com/assets/colab-badge.svg\" alt=\"Open In Colab\"/></a>"
      ]
    },
    {
      "cell_type": "markdown",
      "source": [
        "This Notebook covers:\n",
        "  \n",
        "\n",
        "1.   how to train binary classifiers,\n",
        "2.   choose the appropriate metric for your task,\n",
        "3.  evaluate your classifiers using cross-validation,\n",
        "4. select the precision/ recall tradeoff that fits your needs, \n",
        "5. and compare various models using ROC curves and ROC AUC scores."
      ],
      "metadata": {
        "id": "ncAqiJBnAn9e"
      }
    },
    {
      "cell_type": "code",
      "execution_count": 4,
      "metadata": {
        "colab": {
          "base_uri": "https://localhost:8080/"
        },
        "id": "UPgArGnMCw4E",
        "outputId": "6e5a8cd3-4dc9-419b-e551-b504e70e0bd1"
      },
      "outputs": [
        {
          "output_type": "execute_result",
          "data": {
            "text/plain": [
              "dict_keys(['data', 'target', 'frame', 'categories', 'feature_names', 'target_names', 'DESCR', 'details', 'url'])"
            ]
          },
          "metadata": {},
          "execution_count": 4
        }
      ],
      "source": [
        "from sklearn.datasets import fetch_openml\n",
        "mnist = fetch_openml('mnist_784', version=1)\n",
        "mnist.keys()"
      ]
    },
    {
      "cell_type": "code",
      "source": [
        "X, y = mnist[\"data\"], mnist[\"target\"]\n",
        "X.shape\n"
      ],
      "metadata": {
        "colab": {
          "base_uri": "https://localhost:8080/"
        },
        "id": "7zhPz_e0DLVQ",
        "outputId": "c5f19434-e530-4fe9-dd15-581439391a09"
      },
      "execution_count": 5,
      "outputs": [
        {
          "output_type": "execute_result",
          "data": {
            "text/plain": [
              "(70000, 784)"
            ]
          },
          "metadata": {},
          "execution_count": 5
        }
      ]
    },
    {
      "cell_type": "code",
      "source": [
        "import matplotlib as mpl\n",
        "import matplotlib.pyplot as plt"
      ],
      "metadata": {
        "id": "JEjZKF6PDLa2"
      },
      "execution_count": 6,
      "outputs": []
    },
    {
      "cell_type": "code",
      "source": [
        "\n",
        "some_digit  = X.to_numpy()[0]\n",
        "some_digit_image = some_digit.reshape(28,28)"
      ],
      "metadata": {
        "id": "q8YMY1v3Hegd"
      },
      "execution_count": 7,
      "outputs": []
    },
    {
      "cell_type": "code",
      "source": [
        "plt.imshow(some_digit_image , cmap = mpl.cm.binary , interpolation='nearest')\n",
        "plt.axis('off')\n",
        "plt.show()"
      ],
      "metadata": {
        "colab": {
          "base_uri": "https://localhost:8080/",
          "height": 248
        },
        "id": "VP6d2l-fDLfF",
        "outputId": "a1ab5ced-b45c-4502-d827-cf987fb6e8b4"
      },
      "execution_count": 8,
      "outputs": [
        {
          "output_type": "display_data",
          "data": {
            "text/plain": [
              "<Figure size 432x288 with 1 Axes>"
            ],
            "image/png": "[encoded data removed]"
          },
          "metadata": {
            "needs_background": "light"
          }
        }
      ]
    },
    {
      "cell_type": "code",
      "source": [
        "y[0]"
      ],
      "metadata": {
        "colab": {
          "base_uri": "https://localhost:8080/",
          "height": 35
        },
        "id": "sqGc1dwtDLjQ",
        "outputId": "16789081-05c9-4a68-9daa-c6c3fda54c0f"
      },
      "execution_count": 9,
      "outputs": [
        {
          "output_type": "execute_result",
          "data": {
            "text/plain": [
              "'5'"
            ],
            "application/vnd.google.colaboratory.intrinsic+json": {
              "type": "string"
            }
          },
          "metadata": {},
          "execution_count": 9
        }
      ]
    },
    {
      "cell_type": "code",
      "source": [
        "import numpy as np\n",
        "y = y.astype(np.uint8)"
      ],
      "metadata": {
        "id": "85KL7jaUDLnb"
      },
      "execution_count": 10,
      "outputs": []
    },
    {
      "cell_type": "code",
      "source": [
        "X_train , X_test , y_train , y_test = X[:60000],X[60000:],y[:60000],y[60000:]"
      ],
      "metadata": {
        "id": "ho2g48IZDLtR"
      },
      "execution_count": 11,
      "outputs": []
    },
    {
      "cell_type": "code",
      "source": [
        "y_train_5 = (y_train ==5)\n",
        "y_test_5 = (y_test==5)\n"
      ],
      "metadata": {
        "id": "3YF87q0yDMCi"
      },
      "execution_count": 12,
      "outputs": []
    },
    {
      "cell_type": "code",
      "source": [
        "from sklearn.linear_model import SGDClassifier\n",
        "sgd_clf = SGDClassifier(random_state=42)\n",
        "sgd_clf.fit(X_train, y_train_5)"
      ],
      "metadata": {
        "colab": {
          "base_uri": "https://localhost:8080/"
        },
        "id": "ZwGhmb8JDMGU",
        "outputId": "143b76b4-54bd-496d-8ac4-fba218fc5c1c"
      },
      "execution_count": 13,
      "outputs": [
        {
          "output_type": "execute_result",
          "data": {
            "text/plain": [
              "SGDClassifier(random_state=42)"
            ]
          },
          "metadata": {},
          "execution_count": 13
        }
      ]
    },
    {
      "cell_type": "code",
      "source": [
        "sgd_clf.predict(X_test)"
      ],
      "metadata": {
        "colab": {
          "base_uri": "https://localhost:8080/"
        },
        "id": "2-LglfMHDMKZ",
        "outputId": "8e3b43d8-92e9-4a91-dba8-7f28f7df9cb4"
      },
      "execution_count": 14,
      "outputs": [
        {
          "output_type": "execute_result",
          "data": {
            "text/plain": [
              "array([False, False, False, ..., False,  True, False])"
            ]
          },
          "metadata": {},
          "execution_count": 14
        }
      ]
    },
    {
      "cell_type": "markdown",
      "source": [
        "**Cross_Validation**"
      ],
      "metadata": {
        "id": "PA_SJ8ZQqp37"
      }
    },
    {
      "cell_type": "code",
      "source": [
        "from sklearn.model_selection import cross_val_predict\n",
        "y_train_pred = cross_val_predict(sgd_clf, X_train , y_train_5 , cv=3 )\n",
        "y_train_pred\n"
      ],
      "metadata": {
        "colab": {
          "base_uri": "https://localhost:8080/"
        },
        "id": "72xXF9czDMOn",
        "outputId": "e12df6ea-a5a2-443f-8cd0-600b007c0eb1"
      },
      "execution_count": 15,
      "outputs": [
        {
          "output_type": "execute_result",
          "data": {
            "text/plain": [
              "array([ True, False, False, ...,  True, False, False])"
            ]
          },
          "metadata": {},
          "execution_count": 15
        }
      ]
    },
    {
      "cell_type": "markdown",
      "source": [
        "**Performance Measures**"
      ],
      "metadata": {
        "id": "TLnZ2hZKmKyR"
      }
    },
    {
      "cell_type": "markdown",
      "source": [
        "\n",
        "\n",
        "\n",
        "# 1.   Confusion Matrix\n",
        "\n",
        "\n",
        "\n",
        "\n"
      ],
      "metadata": {
        "id": "rg0cCjtqmTdj"
      }
    },
    {
      "cell_type": "code",
      "source": [
        "from sklearn.metrics import confusion_matrix , precision_score , recall_score , f1_score\n",
        "_confusion_matrix = confusion_matrix ( y_train_5,y_train_pred )\n",
        "_precision_score = precision_score ( y_train_5,y_train_pred )\n",
        "_recall_score =recall_score ( y_train_5,y_train_pred )\n",
        "_f1_score = f1_score ( y_train_5,y_train_pred )\n",
        "\n",
        "print (_confusion_matrix )\n",
        "print (_precision_score )\n",
        "print (_recall_score )\n",
        "print (_f1_score )"
      ],
      "metadata": {
        "colab": {
          "base_uri": "https://localhost:8080/"
        },
        "id": "U_pA3VzMpxII",
        "outputId": "e7701dc8-762f-4f6a-eb51-f159e08a2bcf"
      },
      "execution_count": 16,
      "outputs": [
        {
          "output_type": "stream",
          "name": "stdout",
          "text": [
            "[[53892   687]\n",
            " [ 1891  3530]]\n",
            "0.8370879772350012\n",
            "0.6511713705958311\n",
            "0.7325171197343846\n"
          ]
        }
      ]
    },
    {
      "cell_type": "code",
      "source": [
        "y_score = sgd_clf.decision_function(X_train)\n",
        "y_score"
      ],
      "metadata": {
        "colab": {
          "base_uri": "https://localhost:8080/"
        },
        "id": "YzHQ6_a0DMSd",
        "outputId": "23adaeb7-3f95-4f09-e274-930c3378bdd6"
      },
      "execution_count": 17,
      "outputs": [
        {
          "output_type": "execute_result",
          "data": {
            "text/plain": [
              "array([  2164.22030239,  -5897.37359354, -13489.14805779, ...,\n",
              "         6007.43513003,   -695.89564908,  -3991.49590678])"
            ]
          },
          "metadata": {},
          "execution_count": 17
        }
      ]
    },
    {
      "cell_type": "code",
      "source": [
        "#Returning the y_scores of decision unction instead of returning predictions , in case we need to manually set threshold\n",
        "y_scores = cross_val_predict(sgd_clf,X_train , y_train_5 , cv= 3 , method='decision_function')\n"
      ],
      "metadata": {
        "id": "gUgC7PH7DMWZ"
      },
      "execution_count": 18,
      "outputs": []
    },
    {
      "cell_type": "markdown",
      "source": [
        "**1st way to select good precision/recall tradeoff**"
      ],
      "metadata": {
        "id": "8b87x3XYQQEq"
      }
    },
    {
      "cell_type": "code",
      "source": [
        "# how to define sutiable threshold , by using precision_recall_curve()\n",
        "from  sklearn.metrics import precision_recall_curve\n",
        "precisions, recalls, thresholds = precision_recall_curve(y_train_5, y_scores)"
      ],
      "metadata": {
        "id": "Kb2ZFyTXSA7V"
      },
      "execution_count": 19,
      "outputs": []
    },
    {
      "cell_type": "code",
      "source": [
        "def plot_precision_recall_vs_threshold(precisions, recalls, thresholds):\n",
        "    plt.plot(thresholds, precisions[:-1], \"b--\", label=\"Precision\", linewidth=2)\n",
        "    plt.plot(thresholds, recalls[:-1], \"g-\", label=\"Recall\", linewidth=2)\n",
        "    plt.xlabel(\"Threshold\", fontsize=16)\n",
        "    plt.legend(loc=\"upper left\", fontsize=16)\n",
        "    plt.grid(True)\n",
        "    plt.ylim([0, 1])\n",
        "\n",
        "recall_90_percision = recalls[np.argmax ( precisions>= 0.90 )]\n",
        "Threshold_90_percision = thresholds[np.argmax ( precisions>= 0.90 )]\n",
        "\n",
        "plt.figure(figsize=(15, 4))\n",
        "plot_precision_recall_vs_threshold(precisions, recalls, thresholds)\n",
        "\n",
        "plt.plot([Threshold_90_percision,Threshold_90_percision],[0.,0.9],\"r:\")\n",
        "plt.plot([-50000,Threshold_90_percision],[0.9,0.9],\"r:\")\n",
        "plt.plot([-50000,Threshold_90_percision],[recall_90_percision,recall_90_percision],\"r:\")\n",
        "plt.plot([Threshold_90_percision],[0.9],\"ro\")\n",
        "plt.plot([Threshold_90_percision],[recall_90_percision],\"ro\")\n",
        "\n",
        "\n",
        "plt.show()"
      ],
      "metadata": {
        "colab": {
          "base_uri": "https://localhost:8080/",
          "height": 288
        },
        "id": "v7yR66VxSA84",
        "outputId": "eb5d7d80-69c3-4064-af2f-5ed8918627b8"
      },
      "execution_count": 25,
      "outputs": [
        {
          "output_type": "display_data",
          "data": {
            "text/plain": [
              "<Figure size 1080x288 with 1 Axes>"
            ],
            "image/png": "[encoded data removed]"
          },
          "metadata": {
            "needs_background": "light"
          }
        }
      ]
    },
    {
      "cell_type": "markdown",
      "source": [
        "When thrshold = 0 , then Recall = 60 % and Percision = 90 %\n",
        " \n",
        "\n",
        "*   Recall means how many positive instances  were correctly predicted.\n",
        "*   Percision means how many instances the models classifies as positive "
      ],
      "metadata": {
        "id": "CX4dg_QjERep"
      }
    },
    {
      "cell_type": "markdown",
      "source": [
        "**2nd way to select good thrushold**"
      ],
      "metadata": {
        "id": "YW0EnIToXJ-9"
      }
    },
    {
      "cell_type": "code",
      "source": [
        "#to find  the lowest threshold that gives you at least 90% precision , use np.argmax() which\n",
        "#will give us the first index of the maximum value, which in this case means the first True value\n",
        "threshold_90_precision = thresholds[np.argmax(precisions >= 0.90)] \n",
        "threshold_90_precision"
      ],
      "metadata": {
        "colab": {
          "base_uri": "https://localhost:8080/"
        },
        "id": "uTKaRqd4SBAC",
        "outputId": "0270f0fc-2212-4fcf-c93d-31650e80baa0"
      },
      "execution_count": 19,
      "outputs": [
        {
          "output_type": "execute_result",
          "data": {
            "text/plain": [
              "3370.019499143958"
            ]
          },
          "metadata": {},
          "execution_count": 19
        }
      ]
    },
    {
      "cell_type": "code",
      "source": [
        "# To make predictions (on the training set for now), instead of calling the classifier’s predict() method, you can just run this code:\n",
        "y_train_pred_90 = (y_scores >= threshold_90_precision)"
      ],
      "metadata": {
        "id": "f8ldrF-mSBBj"
      },
      "execution_count": 20,
      "outputs": []
    },
    {
      "cell_type": "code",
      "source": [
        "#Let’s check these predictions’ precision and recall:\n",
        "precision_score(y_train_5, y_train_pred_90)"
      ],
      "metadata": {
        "colab": {
          "base_uri": "https://localhost:8080/"
        },
        "id": "B88DRjrNSBF4",
        "outputId": "1724bf2d-5159-4b42-8c55-0efb2cf96951"
      },
      "execution_count": 21,
      "outputs": [
        {
          "output_type": "execute_result",
          "data": {
            "text/plain": [
              "0.9000345901072293"
            ]
          },
          "metadata": {},
          "execution_count": 21
        }
      ]
    },
    {
      "cell_type": "code",
      "source": [
        "recall_score(y_train_5, y_train_pred_90)\n",
        "#P.S. A high-precision classifier is not very useful if its recall is too low! If someone says “let’s reach 99% precision,” you should ask, “at what recall?”"
      ],
      "metadata": {
        "colab": {
          "base_uri": "https://localhost:8080/"
        },
        "id": "LSFLnZoLYKiD",
        "outputId": "7dc5c911-617f-40f6-e4e7-31bf56edd296"
      },
      "execution_count": 22,
      "outputs": [
        {
          "output_type": "execute_result",
          "data": {
            "text/plain": [
              "0.4799852425751706"
            ]
          },
          "metadata": {},
          "execution_count": 22
        }
      ]
    },
    {
      "cell_type": "markdown",
      "source": [
        "**Percision/Recall Curve (P/R Curve)**"
      ],
      "metadata": {
        "id": "TbJj79Kbxwqd"
      }
    },
    {
      "cell_type": "code",
      "source": [
        "def plot_precision_vs_recall(precisions, recalls):\n",
        "    plt.plot(recalls, precisions, \"b-\", linewidth=2)\n",
        "    plt.xlabel(\"Recall\", fontsize=16)\n",
        "    plt.ylabel(\"Precision\", fontsize=16)\n",
        "    plt.axis([0, 1, 0, 1])\n",
        "\n",
        "plt.figure(figsize=(8, 6))\n",
        "plot_precision_vs_recall(precisions, recalls)\n",
        "# save_fig(\"precision_vs_recall_plot\")\n",
        "plt.show()"
      ],
      "metadata": {
        "colab": {
          "base_uri": "https://localhost:8080/",
          "height": 397
        },
        "id": "J1iOY5dtx4gW",
        "outputId": "6f8e88e2-2f41-4f55-cca0-b43bfaf49625"
      },
      "execution_count": 35,
      "outputs": [
        {
          "output_type": "display_data",
          "data": {
            "text/plain": [
              "<Figure size 576x432 with 1 Axes>"
            ],
            "image/png": "[encoded data removed]"
          },
          "metadata": {
            "needs_background": "light"
          }
        }
      ]
    },
    {
      "cell_type": "markdown",
      "source": [
        "# 2.   ROC Curve\n",
        "\n"
      ],
      "metadata": {
        "id": "cmboN-FuZE5f"
      }
    },
    {
      "cell_type": "code",
      "source": [
        "from sklearn.metrics import roc_curve\n",
        "fpr, tpr, thresholds = roc_curve(y_train_5, y_scores)"
      ],
      "metadata": {
        "id": "AZVCSmozZLzG"
      },
      "execution_count": 27,
      "outputs": []
    },
    {
      "cell_type": "code",
      "source": [
        "fpr"
      ],
      "metadata": {
        "id": "H5ixhp8_ZMA3",
        "colab": {
          "base_uri": "https://localhost:8080/"
        },
        "outputId": "3799ebfa-9dda-4cd5-ed95-ed99ee110197"
      },
      "execution_count": 28,
      "outputs": [
        {
          "output_type": "execute_result",
          "data": {
            "text/plain": [
              "array([0.        , 0.        , 0.        , ..., 0.99937705, 0.99937705,\n",
              "       1.        ])"
            ]
          },
          "metadata": {},
          "execution_count": 28
        }
      ]
    },
    {
      "cell_type": "code",
      "source": [
        "tpr"
      ],
      "metadata": {
        "id": "4EOwU5vaZMCl",
        "colab": {
          "base_uri": "https://localhost:8080/"
        },
        "outputId": "f3a967d8-d95e-410e-efae-97e6c8bbec9c"
      },
      "execution_count": 29,
      "outputs": [
        {
          "output_type": "execute_result",
          "data": {
            "text/plain": [
              "array([0.00000000e+00, 1.84467810e-04, 9.22339052e-04, ...,\n",
              "       9.99815532e-01, 1.00000000e+00, 1.00000000e+00])"
            ]
          },
          "metadata": {},
          "execution_count": 29
        }
      ]
    },
    {
      "cell_type": "code",
      "source": [
        "thresholds"
      ],
      "metadata": {
        "id": "2SzxkBxbZMGH",
        "colab": {
          "base_uri": "https://localhost:8080/"
        },
        "outputId": "d7e9a157-96c1-48a2-9c7f-227a08831512"
      },
      "execution_count": 30,
      "outputs": [
        {
          "output_type": "execute_result",
          "data": {
            "text/plain": [
              "array([  49442.43765905,   49441.43765905,   36801.60697028, ...,\n",
              "       -105763.22240074, -106527.45300471, -146348.56726174])"
            ]
          },
          "metadata": {},
          "execution_count": 30
        }
      ]
    },
    {
      "cell_type": "code",
      "source": [
        "def plot_roc_curve(fpr, tpr, label=None):\n",
        "    plt.plot(fpr, tpr, linewidth=2, label=label)\n",
        "    plt.plot([0, 1], [0, 1], 'k--')\n",
        "    plt.axis([0, 1, 0, 1])\n",
        "    plt.xlabel('False Positive Rate', fontsize=16)\n",
        "    plt.ylabel('True Positive Rate', fontsize=16)\n",
        "\n",
        "plt.figure(figsize=(8, 6))\n",
        "plot_roc_curve(fpr, tpr)\n",
        "# save_fig(\"roc_curve_plot\")\n",
        "plt.show()"
      ],
      "metadata": {
        "id": "mFKfNkMnZMHw",
        "colab": {
          "base_uri": "https://localhost:8080/",
          "height": 397
        },
        "outputId": "be968e6f-a84d-4593-b678-520533187641"
      },
      "execution_count": 32,
      "outputs": [
        {
          "output_type": "display_data",
          "data": {
            "text/plain": [
              "<Figure size 576x432 with 1 Axes>"
            ],
            "image/png": "[encoded data removed]"
          },
          "metadata": {
            "needs_background": "light"
          }
        }
      ]
    },
    {
      "cell_type": "code",
      "source": [
        "from sklearn.metrics import roc_auc_score\n",
        "roc_auc_score( y_train_5 , y_scores)"
      ],
      "metadata": {
        "id": "PPgx08GMZMLc",
        "colab": {
          "base_uri": "https://localhost:8080/"
        },
        "outputId": "5347393d-6a0a-424a-aed1-ca1d01d1a36e"
      },
      "execution_count": 33,
      "outputs": [
        {
          "output_type": "execute_result",
          "data": {
            "text/plain": [
              "0.9604938554008616"
            ]
          },
          "metadata": {},
          "execution_count": 33
        }
      ]
    },
    {
      "cell_type": "markdown",
      "source": [
        "**Precision/Recall curve vs. ROC AUC curve**\n",
        "\n",
        "Since the ROC curve is so similar to the precision/recall (or PR)\n",
        "curve, you may wonder how to decide which one to use. As a rule\n",
        "of thumb, you should prefer the PR curve whenever the positive\n",
        "class is rare or when you care more about the false positives than\n",
        "the false negatives, and the ROC curve otherwise. For example,\n",
        "looking at the previous ROC curve (and the ROC AUC score), you\n",
        "may think that the classifier is really good. But this is mostly\n",
        "because there are few positives (5s) compared to the negatives\n",
        "(non-5s). In contrast, the PR curve makes it clear that the classifier\n",
        "has room for improvement (the curve could be closer to the topright\n",
        "corner)."
      ],
      "metadata": {
        "id": "CPJCyjo8x95c"
      }
    },
    {
      "cell_type": "markdown",
      "source": [
        "**Comparing AUC between SDG and RF classifiers**"
      ],
      "metadata": {
        "id": "51VqyM59-LBs"
      }
    },
    {
      "cell_type": "code",
      "source": [
        "from sklearn.ensemble import RandomForestClassifier\n",
        "forest_clf = RandomForestClassifier ( random_state= 42)\n"
      ],
      "metadata": {
        "id": "30zETAwgZMPg"
      },
      "execution_count": 37,
      "outputs": []
    },
    {
      "cell_type": "code",
      "source": [
        "y_probas_forest = cross_val_predict(forest_clf, X_train, y_train_5, cv=3,method=\"predict_proba\")\n",
        "y_probas_forest"
      ],
      "metadata": {
        "id": "rzIQEFhJZMSI",
        "colab": {
          "base_uri": "https://localhost:8080/"
        },
        "outputId": "1a226dfa-d7ec-45e5-fc40-d0aa8c80e968"
      },
      "execution_count": 38,
      "outputs": [
        {
          "output_type": "execute_result",
          "data": {
            "text/plain": [
              "array([[0.11, 0.89],\n",
              "       [0.99, 0.01],\n",
              "       [0.96, 0.04],\n",
              "       ...,\n",
              "       [0.02, 0.98],\n",
              "       [0.92, 0.08],\n",
              "       [0.94, 0.06]])"
            ]
          },
          "metadata": {},
          "execution_count": 38
        }
      ]
    },
    {
      "cell_type": "markdown",
      "source": [
        "the RandomForestClassi\n",
        "fier class does not have a decision_function() method. Instead it has a pre\n",
        "dict_proba() method. Scikit-Learn classifiers generally have one or the other. The predict_proba() method returns an array containing a row per instance and a column per class, each containing the probability that the given instance belongs to the given class (e.g., 70% chance that the image represents a 5).\n",
        "But to plot a ROC curve, you need scores, not probabilities. A simple solution is to\n",
        "use the positive class’s probability as the score:"
      ],
      "metadata": {
        "id": "Pdzf9hRM_N-0"
      }
    },
    {
      "cell_type": "code",
      "source": [
        "y_scores_forest = y_probas_forest [:,1]\n",
        "y_scores_forest"
      ],
      "metadata": {
        "id": "2x4bSt8aZMT-",
        "colab": {
          "base_uri": "https://localhost:8080/"
        },
        "outputId": "4fb4d1fc-6766-4628-c809-65169dae3513"
      },
      "execution_count": 39,
      "outputs": [
        {
          "output_type": "execute_result",
          "data": {
            "text/plain": [
              "array([0.89, 0.01, 0.04, ..., 0.98, 0.08, 0.06])"
            ]
          },
          "metadata": {},
          "execution_count": 39
        }
      ]
    },
    {
      "cell_type": "code",
      "source": [
        "fpr_forest, tpr_forest, thresholds_forest = roc_curve(y_train_5,y_scores_forest)"
      ],
      "metadata": {
        "id": "LG1b5nimZMVr"
      },
      "execution_count": 40,
      "outputs": []
    },
    {
      "cell_type": "code",
      "source": [
        "plt.plot(fpr, tpr, \"b:\", label=\"SGD\")\n",
        "plot_roc_curve(fpr_forest, tpr_forest, \"Random Forest\")\n",
        "plt.legend(loc=\"lower right\")\n",
        "plt.show()"
      ],
      "metadata": {
        "id": "u7lh4ByFZMXZ",
        "colab": {
          "base_uri": "https://localhost:8080/",
          "height": 288
        },
        "outputId": "316c97bd-4fcd-4f87-a32f-b5205eb682fa"
      },
      "execution_count": 41,
      "outputs": [
        {
          "output_type": "display_data",
          "data": {
            "text/plain": [
              "<Figure size 432x288 with 1 Axes>"
            ],
            "image/png": "[encoded data removed]"
          },
          "metadata": {
            "needs_background": "light"
          }
        }
      ]
    },
    {
      "cell_type": "markdown",
      "source": [
        "the RandomForestClassifier’s ROC curve looks much\n",
        "better than the SGDClassifier’s: it comes much closer to the top-left corner. As a\n",
        "result, its ROC AUC score is also significantly better:\n"
      ],
      "metadata": {
        "id": "BgitIIA8_2cF"
      }
    },
    {
      "cell_type": "code",
      "source": [
        "roc_auc_score(y_train_5, y_scores_forest)"
      ],
      "metadata": {
        "id": "_aq5HxjGZMZh",
        "colab": {
          "base_uri": "https://localhost:8080/"
        },
        "outputId": "8a888c8d-1edc-4fc7-bf55-4b1393b0e900"
      },
      "execution_count": 42,
      "outputs": [
        {
          "output_type": "execute_result",
          "data": {
            "text/plain": [
              "0.9983436731328145"
            ]
          },
          "metadata": {},
          "execution_count": 42
        }
      ]
    },
    {
      "cell_type": "code",
      "source": [
        "y_train_pred_forest = cross_val_predict(forest_clf, X_train, y_train_5, cv=3)\n",
        "precision_score(y_train_5, y_train_pred_forest)"
      ],
      "metadata": {
        "id": "zavFvj8kZMbC",
        "colab": {
          "base_uri": "https://localhost:8080/"
        },
        "outputId": "170fef7d-0f0d-48f2-abc1-9ea04f6444a4"
      },
      "execution_count": 48,
      "outputs": [
        {
          "output_type": "execute_result",
          "data": {
            "text/plain": [
              "0.9905083315756169"
            ]
          },
          "metadata": {},
          "execution_count": 48
        }
      ]
    },
    {
      "cell_type": "code",
      "source": [
        "recall_score(y_train_5, y_train_pred_forest)\n"
      ],
      "metadata": {
        "id": "JG1t7ttiZDVE",
        "colab": {
          "base_uri": "https://localhost:8080/"
        },
        "outputId": "9d946596-1427-46d0-83a2-a82ff8c1d561"
      },
      "execution_count": 49,
      "outputs": [
        {
          "output_type": "execute_result",
          "data": {
            "text/plain": [
              "0.8662608374838591"
            ]
          },
          "metadata": {},
          "execution_count": 49
        }
      ]
    }
  ]
}