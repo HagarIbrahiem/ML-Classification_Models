{
  "nbformat": 4,
  "nbformat_minor": 0,
  "metadata": {
    "colab": {
      "name": "MultiClassification using Binary Classifiers.ipynb",
      "provenance": [],
      "collapsed_sections": [],
      "authorship_tag": "ABX9TyPUyvsm3G4ocZ80JtA392Ci",
      "include_colab_link": true
    },
    "kernelspec": {
      "name": "python3",
      "display_name": "Python 3"
    },
    "language_info": {
      "name": "python"
    }
  },
  "cells": [
    {
      "cell_type": "markdown",
      "metadata": {
        "id": "view-in-github",
        "colab_type": "text"
      },
      "source": [
        "<a href=\"https://colab.research.google.com/github/HagarIbrahiem/ML-Classification_Models/blob/main/MultiClassification_using_Binary_Classifiers.ipynb\" target=\"_parent\"><img src=\"https://colab.research.google.com/assets/colab-badge.svg\" alt=\"Open In Colab\"/></a>"
      ]
    },
    {
      "cell_type": "code",
      "source": [
        "from sklearn.datasets import fetch_openml\n",
        "mnist = fetch_openml ('mnist_784', version=1)"
      ],
      "metadata": {
        "id": "6OnQypxsRZ2f"
      },
      "execution_count": 47,
      "outputs": []
    },
    {
      "cell_type": "code",
      "source": [
        "mnist.keys()"
      ],
      "metadata": {
        "colab": {
          "base_uri": "https://localhost:8080/"
        },
        "id": "6L4Czu3ESCDI",
        "outputId": "61ff86b8-0ac0-472e-fdde-b975df7f249d"
      },
      "execution_count": 48,
      "outputs": [
        {
          "output_type": "execute_result",
          "data": {
            "text/plain": [
              "dict_keys(['data', 'target', 'frame', 'categories', 'feature_names', 'target_names', 'DESCR', 'details', 'url'])"
            ]
          },
          "metadata": {},
          "execution_count": 48
        }
      ]
    },
    {
      "cell_type": "code",
      "source": [
        "X, y = mnist['data'],mnist['target']\n",
        "import numpy as np\n",
        "y.shape"
      ],
      "metadata": {
        "colab": {
          "base_uri": "https://localhost:8080/"
        },
        "id": "hK_5_H_2SCIM",
        "outputId": "b61d10f9-bf4a-457f-992b-8183a52647a9"
      },
      "execution_count": 49,
      "outputs": [
        {
          "output_type": "execute_result",
          "data": {
            "text/plain": [
              "(70000,)"
            ]
          },
          "metadata": {},
          "execution_count": 49
        }
      ]
    },
    {
      "cell_type": "code",
      "source": [
        "y = y.astype(np.uint8)\n",
        "y.shape"
      ],
      "metadata": {
        "colab": {
          "base_uri": "https://localhost:8080/"
        },
        "id": "_nJjcpLKX9FF",
        "outputId": "0e5a96a2-d11f-40ff-8a93-c92f97305de0"
      },
      "execution_count": 50,
      "outputs": [
        {
          "output_type": "execute_result",
          "data": {
            "text/plain": [
              "(70000,)"
            ]
          },
          "metadata": {},
          "execution_count": 50
        }
      ]
    },
    {
      "cell_type": "code",
      "source": [
        "import numpy as np\n",
        "digit= X.to_numpy()[1]"
      ],
      "metadata": {
        "id": "Bu4gHzbNSCRN"
      },
      "execution_count": 51,
      "outputs": []
    },
    {
      "cell_type": "code",
      "source": [
        "_digit = digit.reshape(28,28)"
      ],
      "metadata": {
        "id": "TAMyc_G3SCY2"
      },
      "execution_count": 52,
      "outputs": []
    },
    {
      "cell_type": "code",
      "source": [
        "import matplotlib as mpl\n",
        "import matplotlib.pyplot as plt\n",
        "plt.imshow(_digit , cmap=mpl.cm.binary )\n",
        "plt.axis('off')\n",
        "plt.show"
      ],
      "metadata": {
        "colab": {
          "base_uri": "https://localhost:8080/",
          "height": 265
        },
        "id": "dq87iEytSCfI",
        "outputId": "f5838a53-a18f-488e-c3c3-9643d8782614"
      },
      "execution_count": 53,
      "outputs": [
        {
          "output_type": "execute_result",
          "data": {
            "text/plain": [
              "<function matplotlib.pyplot.show>"
            ]
          },
          "metadata": {},
          "execution_count": 53
        },
        {
          "output_type": "display_data",
          "data": {
            "text/plain": [
              "<Figure size 432x288 with 1 Axes>"
            ],
            "image/png": "[encoded data removed]"
          },
          "metadata": {
            "needs_background": "light"
          }
        }
      ]
    },
    {
      "cell_type": "code",
      "source": [
        "X_train , X_test, y_train, y_test = X[:60000],X[60000:], y[:60000],y[60000:]"
      ],
      "metadata": {
        "id": "IwY2skeGTXnY"
      },
      "execution_count": 54,
      "outputs": []
    },
    {
      "cell_type": "code",
      "source": [
        "from sklearn.linear_model import SGDClassifier\n",
        "sgd_clf = SGDClassifier(random_state=42)\n"
      ],
      "metadata": {
        "id": "XHwlsYuekeoK"
      },
      "execution_count": 55,
      "outputs": []
    },
    {
      "cell_type": "code",
      "source": [
        "sgd_clf.fit(X_train,y_train)"
      ],
      "metadata": {
        "colab": {
          "base_uri": "https://localhost:8080/"
        },
        "id": "zu-hRGYgkepr",
        "outputId": "0a6d8651-453d-49b6-d72f-30c234155a48"
      },
      "execution_count": 56,
      "outputs": [
        {
          "output_type": "execute_result",
          "data": {
            "text/plain": [
              "SGDClassifier(random_state=42)"
            ]
          },
          "metadata": {},
          "execution_count": 56
        }
      ]
    },
    {
      "cell_type": "code",
      "source": [
        "digit = X.to_numpy()[5]"
      ],
      "metadata": {
        "id": "EAJb6mbgnCsh"
      },
      "execution_count": 57,
      "outputs": []
    },
    {
      "cell_type": "code",
      "source": [
        "sgd_clf.predict([digit])"
      ],
      "metadata": {
        "colab": {
          "base_uri": "https://localhost:8080/"
        },
        "id": "i6IvmTy3ketk",
        "outputId": "e3e0c52b-eab2-4e44-d9fe-86f73ce4420d"
      },
      "execution_count": 58,
      "outputs": [
        {
          "output_type": "stream",
          "name": "stderr",
          "text": [
            "/usr/local/lib/python3.7/dist-packages/sklearn/base.py:451: UserWarning: X does not have valid feature names, but SGDClassifier was fitted with feature names\n",
            "  \"X does not have valid feature names, but\"\n"
          ]
        },
        {
          "output_type": "execute_result",
          "data": {
            "text/plain": [
              "array([2], dtype=uint8)"
            ]
          },
          "metadata": {},
          "execution_count": 58
        }
      ]
    },
    {
      "cell_type": "markdown",
      "source": [
        "Scikit-Learn detects when you try to use a binary classification algorithm for a multiclass\n",
        "classification task, and it automatically runs OvA (except for SVM classifiers for\n",
        "which it uses OvO)."
      ],
      "metadata": {
        "id": "PRchg2_iBnhl"
      }
    },
    {
      "cell_type": "code",
      "source": [
        "some_digit_score= sgd_clf.decision_function([digit])\n",
        "some_digit_score"
      ],
      "metadata": {
        "colab": {
          "base_uri": "https://localhost:8080/"
        },
        "id": "818FkM4akevH",
        "outputId": "0b385c20-bcf2-4cdf-a6d9-8a716b8f7b89"
      },
      "execution_count": 59,
      "outputs": [
        {
          "output_type": "stream",
          "name": "stderr",
          "text": [
            "/usr/local/lib/python3.7/dist-packages/sklearn/base.py:451: UserWarning: X does not have valid feature names, but SGDClassifier was fitted with feature names\n",
            "  \"X does not have valid feature names, but\"\n"
          ]
        },
        {
          "output_type": "execute_result",
          "data": {
            "text/plain": [
              "array([[-15541.82888672, -29286.65271153,   3512.16981303,\n",
              "         -6832.08390768, -19312.77223333,  -9222.09311121,\n",
              "        -33451.06615947, -21325.87368895,  -2296.78795949,\n",
              "         -6958.23332214]])"
            ]
          },
          "metadata": {},
          "execution_count": 59
        }
      ]
    },
    {
      "cell_type": "code",
      "source": [
        "np.argmax(some_digit_score)"
      ],
      "metadata": {
        "colab": {
          "base_uri": "https://localhost:8080/"
        },
        "id": "hQmnqAWmkey4",
        "outputId": "40e23907-da0d-4a3e-a484-00f1ce6a451e"
      },
      "execution_count": 60,
      "outputs": [
        {
          "output_type": "execute_result",
          "data": {
            "text/plain": [
              "2"
            ]
          },
          "metadata": {},
          "execution_count": 60
        }
      ]
    },
    {
      "cell_type": "code",
      "source": [
        "sgd_clf.classes_"
      ],
      "metadata": {
        "colab": {
          "base_uri": "https://localhost:8080/"
        },
        "id": "zVGoxNc8ke0l",
        "outputId": "4f6ef7db-e1d8-4d2f-f1c7-e4e752f63a3c"
      },
      "execution_count": 61,
      "outputs": [
        {
          "output_type": "execute_result",
          "data": {
            "text/plain": [
              "array([0, 1, 2, 3, 4, 5, 6, 7, 8, 9], dtype=uint8)"
            ]
          },
          "metadata": {},
          "execution_count": 61
        }
      ]
    },
    {
      "cell_type": "code",
      "source": [
        "sgd_clf.classes_[2]"
      ],
      "metadata": {
        "colab": {
          "base_uri": "https://localhost:8080/"
        },
        "id": "YG26qOptke4x",
        "outputId": "d8797f9c-317e-468d-fbaf-326124389b85"
      },
      "execution_count": 62,
      "outputs": [
        {
          "output_type": "execute_result",
          "data": {
            "text/plain": [
              "2"
            ]
          },
          "metadata": {},
          "execution_count": 62
        }
      ]
    },
    {
      "cell_type": "markdown",
      "source": [
        "If you want to force ScikitLearn to use one-versus-one or one-versus-all, you can use\n",
        "the OneVsOneClassifier or OneVsRestClassifier classes. Simply create an instance\n",
        "and pass a binary classifier to its constructor. For example, this code creates a multiclass\n",
        "classifier using the OvO strategy, based on a SGDClassifier:"
      ],
      "metadata": {
        "id": "RHY3zC-KAsnS"
      }
    },
    {
      "cell_type": "code",
      "source": [
        "from sklearn.multiclass import OneVsOneClassifier\n",
        "ovo_sgd = OneVsOneClassifier(SGDClassifier(random_state=42))\n",
        "ovo_sgd.fit(X_train , y_train)\n"
      ],
      "metadata": {
        "colab": {
          "base_uri": "https://localhost:8080/"
        },
        "id": "NcpTABKQBuAx",
        "outputId": "24ac6a1b-44e7-4acf-e287-c7cd5ed6fe4f"
      },
      "execution_count": 63,
      "outputs": [
        {
          "output_type": "execute_result",
          "data": {
            "text/plain": [
              "OneVsOneClassifier(estimator=SGDClassifier(random_state=42))"
            ]
          },
          "metadata": {},
          "execution_count": 63
        }
      ]
    },
    {
      "cell_type": "code",
      "source": [
        "ovo_sgd.predict([digit])\n"
      ],
      "metadata": {
        "colab": {
          "base_uri": "https://localhost:8080/"
        },
        "id": "WczAs42bBuHU",
        "outputId": "e6623548-1be3-4acb-dfec-4231aed21574"
      },
      "execution_count": 64,
      "outputs": [
        {
          "output_type": "stream",
          "name": "stderr",
          "text": [
            "/usr/local/lib/python3.7/dist-packages/sklearn/base.py:451: UserWarning: X does not have valid feature names, but OneVsOneClassifier was fitted with feature names\n",
            "  \"X does not have valid feature names, but\"\n"
          ]
        },
        {
          "output_type": "execute_result",
          "data": {
            "text/plain": [
              "array([2], dtype=uint8)"
            ]
          },
          "metadata": {},
          "execution_count": 64
        }
      ]
    },
    {
      "cell_type": "code",
      "source": [
        "ovo_sgd.estimators_\n",
        "len(ovo_sgd.estimators_)"
      ],
      "metadata": {
        "colab": {
          "base_uri": "https://localhost:8080/"
        },
        "id": "x_eGtBPMBuME",
        "outputId": "aeebf39b-e708-4bf6-934a-2f0924e13d81"
      },
      "execution_count": 65,
      "outputs": [
        {
          "output_type": "execute_result",
          "data": {
            "text/plain": [
              "45"
            ]
          },
          "metadata": {},
          "execution_count": 65
        }
      ]
    },
    {
      "cell_type": "markdown",
      "source": [
        "This time Scikit-Learn did not have to run OvA or OvO because Random Forest\n",
        "classifiers can directly classify instances into multiple classes."
      ],
      "metadata": {
        "id": "S2Wt8WZDDCqy"
      }
    },
    {
      "cell_type": "code",
      "source": [
        "from sklearn.ensemble import RandomForestClassifier\n",
        "rf_clf=RandomForestClassifier(random_state=42)\n",
        "rf_clf.fit(X_train,y_train)"
      ],
      "metadata": {
        "colab": {
          "base_uri": "https://localhost:8080/"
        },
        "id": "hpF-6-xRDDmt",
        "outputId": "1eca0aba-d42f-4a32-b286-a8b0caab3509"
      },
      "execution_count": 66,
      "outputs": [
        {
          "output_type": "execute_result",
          "data": {
            "text/plain": [
              "RandomForestClassifier(random_state=42)"
            ]
          },
          "metadata": {},
          "execution_count": 66
        }
      ]
    },
    {
      "cell_type": "code",
      "source": [
        "rf_clf.predict([digit])"
      ],
      "metadata": {
        "colab": {
          "base_uri": "https://localhost:8080/"
        },
        "id": "yQxt3yxWDeUW",
        "outputId": "e1771543-a904-4c7b-9c7b-355076a39acf"
      },
      "execution_count": 67,
      "outputs": [
        {
          "output_type": "stream",
          "name": "stderr",
          "text": [
            "/usr/local/lib/python3.7/dist-packages/sklearn/base.py:451: UserWarning: X does not have valid feature names, but RandomForestClassifier was fitted with feature names\n",
            "  \"X does not have valid feature names, but\"\n"
          ]
        },
        {
          "output_type": "execute_result",
          "data": {
            "text/plain": [
              "array([2], dtype=uint8)"
            ]
          },
          "metadata": {},
          "execution_count": 67
        }
      ]
    },
    {
      "cell_type": "code",
      "source": [
        "rf_clf.predict_proba([digit])\n"
      ],
      "metadata": {
        "colab": {
          "base_uri": "https://localhost:8080/"
        },
        "id": "YCTCrihXDkJX",
        "outputId": "9a0aad8d-b6cd-4f68-a7ab-3fd63b836c70"
      },
      "execution_count": 68,
      "outputs": [
        {
          "output_type": "stream",
          "name": "stderr",
          "text": [
            "/usr/local/lib/python3.7/dist-packages/sklearn/base.py:451: UserWarning: X does not have valid feature names, but RandomForestClassifier was fitted with feature names\n",
            "  \"X does not have valid feature names, but\"\n"
          ]
        },
        {
          "output_type": "execute_result",
          "data": {
            "text/plain": [
              "array([[0.01, 0.  , 0.88, 0.01, 0.  , 0.04, 0.01, 0.  , 0.03, 0.02]])"
            ]
          },
          "metadata": {},
          "execution_count": 68
        }
      ]
    },
    {
      "cell_type": "code",
      "source": [
        "len(rf_clf.estimators_)"
      ],
      "metadata": {
        "colab": {
          "base_uri": "https://localhost:8080/"
        },
        "id": "v3zUxrPGDuYt",
        "outputId": "c26547f5-8e2c-4c1a-aa11-4650cce412a6"
      },
      "execution_count": 69,
      "outputs": [
        {
          "output_type": "execute_result",
          "data": {
            "text/plain": [
              "100"
            ]
          },
          "metadata": {},
          "execution_count": 69
        }
      ]
    },
    {
      "cell_type": "markdown",
      "source": [
        "**Classifiers Evaluation**"
      ],
      "metadata": {
        "id": "-Uc_DQGwHTws"
      }
    },
    {
      "cell_type": "code",
      "source": [
        "from sklearn.model_selection import cross_val_score\n",
        "\n",
        "cross_val_score(sgd_clf, X_train,y_train, cv=3,scoring='accuracy')"
      ],
      "metadata": {
        "colab": {
          "base_uri": "https://localhost:8080/"
        },
        "id": "IBVFTLidDuew",
        "outputId": "a5d33417-3d43-42cc-bab7-adf71190b779"
      },
      "execution_count": 70,
      "outputs": [
        {
          "output_type": "execute_result",
          "data": {
            "text/plain": [
              "array([0.87365, 0.85835, 0.8689 ])"
            ]
          },
          "metadata": {},
          "execution_count": 70
        }
      ]
    },
    {
      "cell_type": "code",
      "source": [
        "cross_val_score(ovo_sgd, X_train,y_train, cv=3,scoring='accuracy')\n"
      ],
      "metadata": {
        "colab": {
          "base_uri": "https://localhost:8080/"
        },
        "id": "m8wgNY4fHsZv",
        "outputId": "d13c4aea-ec6c-478d-d0ec-88a0dcd1a88b"
      },
      "execution_count": 71,
      "outputs": [
        {
          "output_type": "execute_result",
          "data": {
            "text/plain": [
              "array([0.91545, 0.9131 , 0.92045])"
            ]
          },
          "metadata": {},
          "execution_count": 71
        }
      ]
    },
    {
      "cell_type": "code",
      "source": [
        "cross_val_score(rf_clf, X_train,y_train, cv=3,scoring='accuracy')\n"
      ],
      "metadata": {
        "colab": {
          "base_uri": "https://localhost:8080/"
        },
        "id": "rsVY_XGlHsl7",
        "outputId": "91800bb5-e080-4337-a6f6-73f2f1321ff1"
      },
      "execution_count": 104,
      "outputs": [
        {
          "output_type": "execute_result",
          "data": {
            "text/plain": [
              "array([0.9646 , 0.96255, 0.9666 ])"
            ]
          },
          "metadata": {},
          "execution_count": 104
        }
      ]
    },
    {
      "cell_type": "markdown",
      "source": [
        "**Error Analysis**"
      ],
      "metadata": {
        "id": "in5Q-5uRelPp"
      }
    },
    {
      "cell_type": "markdown",
      "source": [
        "Assume that you have found a promising model and you want\n",
        "to find ways to improve it. One way to do this is to analyze the types of errors it\n",
        "makes."
      ],
      "metadata": {
        "id": "bJ6V11ANelax"
      }
    },
    {
      "cell_type": "code",
      "source": [
        "from sklearn.model_selection import cross_val_predict\n",
        "y_train_predicted= cross_val_predict(sgd_clf, X_train,y_train , cv = 3 )"
      ],
      "metadata": {
        "id": "NqnMeM6Se2Dj"
      },
      "execution_count": 74,
      "outputs": []
    },
    {
      "cell_type": "code",
      "source": [
        "from sklearn.metrics import confusion_matrix\n",
        "conf_mx = confusion_matrix(y_train , y_train_predicted)\n",
        "conf_mx"
      ],
      "metadata": {
        "colab": {
          "base_uri": "https://localhost:8080/"
        },
        "id": "UJkW78jWfO91",
        "outputId": "81314799-4b42-4553-89c0-c6f567a3bd8a"
      },
      "execution_count": 81,
      "outputs": [
        {
          "output_type": "execute_result",
          "data": {
            "text/plain": [
              "array([[5635,    0,   61,   10,   16,   50,   46,    7,   66,   32],\n",
              "       [   3, 6393,   95,   21,   16,   47,   15,   27,  109,   16],\n",
              "       [  72,   56, 5174,   89,   69,   39,  163,   66,  212,   18],\n",
              "       [  58,   32,  217, 4941,   23,  441,   32,   56,  216,  115],\n",
              "       [  11,   26,   46,    6, 5298,   26,   73,   32,   87,  237],\n",
              "       [  68,   23,   58,  150,   83, 4606,  174,   26,  152,   81],\n",
              "       [  40,   13,   56,    6,   22,  113, 5625,    5,   36,    2],\n",
              "       [  23,   24,  103,   36,  124,   40,   10, 5228,   75,  602],\n",
              "       [  40,  101,  158,  122,   49,  457,   77,   35, 4666,  146],\n",
              "       [  33,   18,   66,   83,  515,  127,    4,  485,  166, 4452]])"
            ]
          },
          "metadata": {},
          "execution_count": 81
        }
      ]
    },
    {
      "cell_type": "markdown",
      "source": [
        "It’s often more convenient to look at an image representation\n",
        "of the confusion matrix, using Matplotlib’s matshow() function:"
      ],
      "metadata": {
        "id": "FpZcD20Lfolm"
      }
    },
    {
      "cell_type": "code",
      "source": [
        "import matplotlib as mlp\n",
        "import matplotlib.pyplot as plt\n",
        "\n",
        "plt.matshow(conf_mx , cmap = plt.cm.gray)\n",
        "plt.show()"
      ],
      "metadata": {
        "colab": {
          "base_uri": "https://localhost:8080/",
          "height": 275
        },
        "id": "H7aFF9VvfnwY",
        "outputId": "be7c6794-fb14-4eb1-9461-532b9781146e"
      },
      "execution_count": 83,
      "outputs": [
        {
          "output_type": "display_data",
          "data": {
            "text/plain": [
              "<Figure size 288x288 with 1 Axes>"
            ],
            "image/png": "[encoded data removed]"
          },
          "metadata": {
            "needs_background": "light"
          }
        }
      ]
    },
    {
      "cell_type": "markdown",
      "source": [
        "This confusion matrix looks fairly good, since most images are on the main diagonal,\n",
        "which means that they were classified correctly. The 5s look slightly darker than the\n",
        "other digits, which could mean that there are fewer images of 5s in the dataset or that\n",
        "the classifier does not perform as well on 5s as on other digits."
      ],
      "metadata": {
        "id": "yFyal6uhgZiN"
      }
    },
    {
      "cell_type": "code",
      "source": [
        "row_sums = conf_mx.sum(axis=1, keepdims=True)\n",
        "norm_conf_mx = conf_mx / row_sums\n",
        "# Now let’s fill the diagonal with zeros to keep only the errors, and let’s plot the result:\n",
        "np.fill_diagonal(norm_conf_mx, 0)\n",
        "plt.matshow(norm_conf_mx, cmap=plt.cm.gray)\n",
        "plt.show()\n"
      ],
      "metadata": {
        "colab": {
          "base_uri": "https://localhost:8080/",
          "height": 275
        },
        "id": "IMi2W7F6gYgK",
        "outputId": "2132b0a1-e599-4f5c-eef5-a7c7d20bdecc"
      },
      "execution_count": 84,
      "outputs": [
        {
          "output_type": "display_data",
          "data": {
            "text/plain": [
              "<Figure size 288x288 with 1 Axes>"
            ],
            "image/png": "[encoded data removed]"
          },
          "metadata": {
            "needs_background": "light"
          }
        }
      ]
    },
    {
      "cell_type": "markdown",
      "source": [
        "Now you can clearly see the kinds of errors the classifier makes. Remember that rows\n",
        "represent actual classes, while columns represent predicted classes. The column for\n",
        "class 8 is quite bright, which tells you that many images get misclassified as 8s. However,\n",
        "the row for class 8 is not that bad, telling you that actual 8s in general get properly\n",
        "classified as 8s. (Percision Vs. Recall)\n",
        " As you can see, the confusion matrix is not necessarily\n",
        "symmetrical. You can also see that 3s and 5s often get confused (in both directions).\n"
      ],
      "metadata": {
        "id": "OldR6RUciVb2"
      }
    },
    {
      "cell_type": "markdown",
      "source": [
        "Analyzing the confusion matrix can often give you insights on ways to improve your\n",
        "classifier. Looking at this plot, it seems that your efforts should be spent on reducing\n",
        "the false 8s. For example, you could try to gather more training data for digits that\n",
        "look like 8s (but are not) so the classifier can learn to distinguish them from real 8s.\n",
        "Or you could engineer new features that would help the classifier—for example, writing\n",
        "an algorithm to count the number of closed loops (e.g., 8 has two, 6 has one, 5 has\n",
        "none). Or you could preprocess the images (e.g., using Scikit-Image, Pillow, or\n",
        "OpenCV) to make some patterns stand out more, such as closed loops."
      ],
      "metadata": {
        "id": "xomSY8NfjiU8"
      }
    },
    {
      "cell_type": "markdown",
      "source": [
        "**Analyzing individual errors**"
      ],
      "metadata": {
        "id": "QZbwfwCZkw2d"
      }
    },
    {
      "cell_type": "markdown",
      "source": [
        "Analyzing individual errors can also be a good way to gain insights on what your\n",
        "classifier is doing and why it is failing, but it is more difficult and time-consuming."
      ],
      "metadata": {
        "id": "u-GWEqV-k2cN"
      }
    },
    {
      "cell_type": "code",
      "source": [
        "cl_a, cl_b = 3, 5\n",
        "X_aa = X_train[(y_train == cl_a) & (y_train_predicted == cl_a)]\n",
        "X_ab = X_train[(y_train == cl_a) & (y_train_predicted == cl_b)]\n",
        "X_ba = X_train[(y_train == cl_b) & (y_train_predicted == cl_b)]\n",
        "X_bb = X_train[(y_train == cl_b) & (y_train_predicted == cl_a)]"
      ],
      "metadata": {
        "id": "sKLex9x0k1oJ"
      },
      "execution_count": 99,
      "outputs": []
    },
    {
      "cell_type": "code",
      "source": [
        "def plot_digits(instances, images_per_row=10, **options):\n",
        "    size = 28\n",
        "    images_per_row = min(len(instances), images_per_row)\n",
        "    images = [np.array(instances.iloc[i]).reshape(size, size) for i in range(instances.shape[0])] #change done here\n",
        "    \n",
        "    if images_per_row == 0:\n",
        "       images_per_row = 0.1\n",
        "    \n",
        "    n_rows = (len(instances) - 1) // images_per_row + 1\n",
        "    row_images = []\n",
        "    n_empty = n_rows * images_per_row - len(instances)\n",
        "    images.append(np.zeros((size, size * n_empty)))\n",
        "    for row in range(n_rows):\n",
        "        rimages = images[row * images_per_row : (row + 1) * images_per_row]\n",
        "        row_images.append(np.concatenate(rimages, axis=1))\n",
        "    image = np.concatenate(row_images, axis=0)\n",
        "    plt.imshow(image, cmap = plt.cm.binary, **options)\n",
        "    plt.axis(\"off\")"
      ],
      "metadata": {
        "id": "fad7DSVQl6pe"
      },
      "execution_count": 102,
      "outputs": []
    },
    {
      "cell_type": "code",
      "source": [
        "plt.figure(figsize=(8,8))\n",
        "plt.subplot(221); plot_digits(X_aa[:25], images_per_row=5)\n",
        "plt.subplot(222); plot_digits(X_ab[:25], images_per_row=5)\n",
        "plt.subplot(223); plot_digits(X_ba[:25], images_per_row=5)\n",
        "plt.subplot(224); plot_digits(X_bb[:25], images_per_row=5)\n",
        "plt.show()"
      ],
      "metadata": {
        "colab": {
          "base_uri": "https://localhost:8080/",
          "height": 466
        },
        "id": "7qDkcASklXWp",
        "outputId": "8e2aba28-ac6b-4e72-cd61-7de37960220d"
      },
      "execution_count": 103,
      "outputs": [
        {
          "output_type": "display_data",
          "data": {
            "text/plain": [
              "<Figure size 576x576 with 4 Axes>"
            ],
            "image/png": "[encoded data removed]"
          },
          "metadata": {
            "needs_background": "light"
          }
        }
      ]
    },
    {
      "cell_type": "markdown",
      "source": [
        "The two 5×5 blocks on the left show digits classified as 3s, and the two 5×5 blocks on\n",
        "the right show images classified as 5s. Some of the digits that the classifier gets wrong\n",
        "(i.e., in the bottom-left and top-right blocks) are so badly written that even a human\n",
        "would have trouble classifying them\n",
        "\n",
        "However, most misclassified images seem like obvious\n",
        "errors to us, and it’s hard to understand why the classifier made the mistakes it did.3\n",
        "The reason is that we used a simple SGDClassifier, which is a linear model. All it\n",
        "does is assign a weight per class to each pixel, and when it sees a new image it just\n",
        "sums up the weighted pixel intensities to get a score for each class. So since 3s and 5s\n",
        "differ only by a few pixels, this model will easily confuse them.\n",
        "\n",
        "The main difference between 3s and 5s is the position of the small line that joins the\n",
        "top line to the bottom arc. If you draw a 3 with the junction slightly shifted to the left,\n",
        "the classifier might classify it as a 5, and vice versa. In other words, this classifier is\n",
        "quite sensitive to image shifting and rotation. So one way to reduce the 3/5 confusion\n",
        "would be to preprocess the images to ensure that they are well centered and not too\n",
        "rotated. This will probably help reduce other errors as well."
      ],
      "metadata": {
        "id": "yiO_a6UcnPJI"
      }
    }
  ]
}