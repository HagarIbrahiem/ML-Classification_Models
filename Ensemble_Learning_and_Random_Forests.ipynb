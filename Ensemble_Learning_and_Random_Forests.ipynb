{
  "nbformat": 4,
  "nbformat_minor": 0,
  "metadata": {
    "colab": {
      "name": "Ensemble Learning and Random Forests.ipynb",
      "provenance": [],
      "collapsed_sections": [
        "kWgqwTW00Wh8",
        "005AKiAC0fOX",
        "6m8kjL6P3nBE",
        "aDbs9O5owM2e",
        "dXssoLGWzRZt",
        "r3BUyuahz3no"
      ],
      "authorship_tag": "ABX9TyMKs/J/pSKjy1brLZbrzGJ2",
      "include_colab_link": true
    },
    "kernelspec": {
      "name": "python3",
      "display_name": "Python 3"
    },
    "language_info": {
      "name": "python"
    }
  },
  "cells": [
    {
      "cell_type": "markdown",
      "metadata": {
        "id": "view-in-github",
        "colab_type": "text"
      },
      "source": [
        "<a href=\"https://colab.research.google.com/github/HagarIbrahiem/ML-Classification_Models/blob/main/Ensemble_Learning_and_Random_Forests.ipynb\" target=\"_parent\"><img src=\"https://colab.research.google.com/assets/colab-badge.svg\" alt=\"Open In Colab\"/></a>"
      ]
    },
    {
      "cell_type": "markdown",
      "source": [
        "This Notebook covers:\n",
        "\n",
        "\n",
        "1. Voting (Soft & Hard)\n",
        "2. Bagging & Pasting \n",
        "3. Random Forest ( Extraa Trees + Feature Importance) \n",
        "4. Boosting ( AdaBoost +GB + XGBoost)\n",
        "\n"
      ],
      "metadata": {
        "id": "m6meLXb_sp8J"
      }
    },
    {
      "cell_type": "markdown",
      "source": [
        "For example, you can train a group of Decision Tree classifiers, each on a different\n",
        "random subset of the training set. To make predictions, you just obtain the predictions\n",
        "of all individual trees, then predict the class that gets the most votes. Such an ensemble of Decision Trees is called a Random Forest,\n",
        "and despite its simplicity, this is one of the most powerful Machine Learning algorithms\n",
        "available today.\n",
        "\n",
        "\n",
        "Moreover,, you will often use Ensemble methods near\n",
        "the end of a project, once you have already built a few good predictors, to combine\n",
        "them into an even better predictor. In fact, the winning solutions in Machine Learning\n",
        "competitions often involve several Ensemble methods (most famously in the Netflix\n",
        "Prize competition)."
      ],
      "metadata": {
        "id": "1nPovre5tWXU"
      }
    },
    {
      "cell_type": "markdown",
      "source": [
        "# **Hard Voting-Ensemble Learning**"
      ],
      "metadata": {
        "id": "kWgqwTW00Wh8"
      }
    },
    {
      "cell_type": "markdown",
      "source": [
        "The following code creates and trains a voting classifier in Scikit-Learn, composed of\n",
        "three diverse classifiers"
      ],
      "metadata": {
        "id": "uAjqbCsgvEhc"
      }
    },
    {
      "cell_type": "code",
      "source": [
        "from sklearn.datasets import make_moons\n",
        "from sklearn.model_selection import train_test_split\n",
        "\n",
        "X, y = make_moons(n_samples=500, noise=0.30, random_state=42)\n",
        "X_train, X_test, y_train, y_test = train_test_split(X, y, random_state=42)"
      ],
      "metadata": {
        "id": "uaIT0ZEKwipP"
      },
      "execution_count": null,
      "outputs": []
    },
    {
      "cell_type": "code",
      "execution_count": null,
      "metadata": {
        "id": "a_CnJolfsngJ",
        "colab": {
          "base_uri": "https://localhost:8080/"
        },
        "outputId": "e5562bb7-4572-416b-e49e-ae4f91dcfaf4"
      },
      "outputs": [
        {
          "output_type": "execute_result",
          "data": {
            "text/plain": [
              "VotingClassifier(estimators=[('rf',\n",
              "                              RandomForestClassifier(n_estimators=10,\n",
              "                                                     random_state=42)),\n",
              "                             ('lr',\n",
              "                              LogisticRegression(random_state=42,\n",
              "                                                 solver='liblinear')),\n",
              "                             ('svc', SVC(gamma='auto', random_state=42))])"
            ]
          },
          "metadata": {},
          "execution_count": 2
        }
      ],
      "source": [
        "from sklearn.ensemble import RandomForestClassifier\n",
        "from sklearn.ensemble import VotingClassifier\n",
        "from sklearn.linear_model import LogisticRegression\n",
        "from sklearn.svm import SVC\n",
        "\n",
        "rf_clf = RandomForestClassifier(random_state=42,n_estimators=10)\n",
        "log_clf =LogisticRegression(random_state=42,solver=\"liblinear\")\n",
        "svc_clf=SVC (random_state=42,gamma=\"auto\")\n",
        "\n",
        "voting_clf = VotingClassifier(estimators=[('rf',rf_clf),('lr',log_clf),('svc',svc_clf)] , voting='hard')\n",
        "voting_clf.fit(X_train, y_train)"
      ]
    },
    {
      "cell_type": "markdown",
      "source": [
        "Let’s look at each classifier’s accuracy on the test set:"
      ],
      "metadata": {
        "id": "AC1qM0KixO-c"
      }
    },
    {
      "cell_type": "code",
      "source": [
        "from sklearn.metrics import accuracy_score\n",
        "\n",
        "for _clf in (rf_clf , log_clf , svc_clf, voting_clf):\n",
        "  _clf.fit(X_train , y_train)\n",
        "  y_pred=_clf.predict(X_test)\n",
        "  print(_clf.__class__.__name__ , accuracy_score(y_test, y_pred))\n"
      ],
      "metadata": {
        "id": "Q_OKRh5HwP1l",
        "colab": {
          "base_uri": "https://localhost:8080/"
        },
        "outputId": "6f90f271-ec2e-45e9-bed5-0f62f7dab51f"
      },
      "execution_count": null,
      "outputs": [
        {
          "output_type": "stream",
          "name": "stdout",
          "text": [
            "RandomForestClassifier 0.872\n",
            "LogisticRegression 0.864\n",
            "SVC 0.888\n",
            "VotingClassifier 0.896\n"
          ]
        }
      ]
    },
    {
      "cell_type": "markdown",
      "source": [
        "There you have it! The voting classifier slightly outperforms all the individual classifiers."
      ],
      "metadata": {
        "id": "rKRBGHjgzXi2"
      }
    },
    {
      "cell_type": "markdown",
      "source": [
        "# **Soft Voting-Ensemble Learning**"
      ],
      "metadata": {
        "id": "005AKiAC0fOX"
      }
    },
    {
      "cell_type": "markdown",
      "source": [
        "If all classifiers are able to estimate class probabilities (i.e., they have a\n",
        "pre\n",
        "method), then you can tell Scikit-Learn to predict the class with the\n",
        "dict_proba()\n",
        "highest class probability, averaged over all the individual classifiers. This is called sof\n",
        "voting. It often achieves higher performance than hard voting because it gives more\n",
        "weight to highly confident votes.\n",
        "\n",
        "\n",
        "All you need to do is:\n",
        "1. replace\n",
        "with\n",
        "voting=\"hard\"\n",
        "2. \n",
        "and ensure that all classifiers can estimate class probabilities.\n",
        "voting=\"soft\"\n",
        "\n",
        "This is\n",
        "not the case of the\n",
        "class by default, so you need to set its\n",
        "hyperpara\n",
        "**SVC**\n",
        "probability\n",
        "meter\n",
        "to\n",
        "(this will make the\n",
        "class use cross-validation to estimate class prob\n",
        "True\n",
        "SVC\n",
        "abilities,\n",
        "slowing down training, and it will add a\n",
        "method). If you\n",
        "predict_proba()"
      ],
      "metadata": {
        "id": "2TpgscIR09M3"
      }
    },
    {
      "cell_type": "code",
      "source": [
        "\n",
        "rf_clf = RandomForestClassifier(random_state=42,n_estimators=10)\n",
        "log_clf=LogisticRegression(random_state=42,solver='liblinear')\n",
        "svc_clf = SVC(random_state=42, gamma='auto',probability=True)\n",
        "voting_clf = VotingClassifier(estimators= [('rf',rf_clf),('log',log_clf),('svc',log_clf)], voting='soft')\n",
        "\n",
        "voting_clf.fit(X_train, y_train)"
      ],
      "metadata": {
        "id": "hK7sBl_izYQ7",
        "colab": {
          "base_uri": "https://localhost:8080/"
        },
        "outputId": "e3a17537-a4ae-4f6d-8ec9-964feec2f91b"
      },
      "execution_count": null,
      "outputs": [
        {
          "output_type": "execute_result",
          "data": {
            "text/plain": [
              "VotingClassifier(estimators=[('rf',\n",
              "                              RandomForestClassifier(n_estimators=10,\n",
              "                                                     random_state=42)),\n",
              "                             ('log',\n",
              "                              LogisticRegression(random_state=42,\n",
              "                                                 solver='liblinear')),\n",
              "                             ('svc',\n",
              "                              LogisticRegression(random_state=42,\n",
              "                                                 solver='liblinear'))],\n",
              "                 voting='soft')"
            ]
          },
          "metadata": {},
          "execution_count": 4
        }
      ]
    },
    {
      "cell_type": "code",
      "source": [
        "for _clf in (rf_clf , log_clf, svc_clf , voting_clf):\n",
        "  _clf.fit(X_train, y_train)\n",
        "  y_pred=_clf.predict(X_test)\n",
        "  print (_clf.__class__.__name__ , accuracy_score(y_test,y_pred))"
      ],
      "metadata": {
        "id": "OPYYWMgFzYSW",
        "colab": {
          "base_uri": "https://localhost:8080/"
        },
        "outputId": "6b127226-30e5-41fa-ac97-63090716d3aa"
      },
      "execution_count": null,
      "outputs": [
        {
          "output_type": "stream",
          "name": "stdout",
          "text": [
            "RandomForestClassifier 0.872\n",
            "LogisticRegression 0.864\n",
            "SVC 0.888\n",
            "VotingClassifier 0.872\n"
          ]
        }
      ]
    },
    {
      "cell_type": "markdown",
      "source": [
        "**soft-voting** in most cases is better than **hard-voting**"
      ],
      "metadata": {
        "id": "K1jtQomf3ZXe"
      }
    },
    {
      "cell_type": "markdown",
      "source": [
        "# **Bagging and Pasting**"
      ],
      "metadata": {
        "id": "6m8kjL6P3nBE"
      }
    },
    {
      "cell_type": "markdown",
      "source": [
        "Scikit-Learn offers a simple API for both bagging and pasting with the BaggingClas\n",
        "sifier class (or BaggingRegressor for regression). The following code trains an\n",
        "ensemble of 500 Decision Tree classifiers,5 each trained on 100 training instances randomly\n",
        "sampled from the training set with replacement (this is an example of bagging,\n",
        "but if you want to use pasting instead, just set bootstrap=False). The n_jobs parameter\n",
        "tells Scikit-Learn the number of CPU cores to use for training and predictions\n",
        "(–1 tells Scikit-Learn to use all available cores)"
      ],
      "metadata": {
        "id": "JyqGsVMwGWLa"
      }
    },
    {
      "cell_type": "code",
      "source": [
        "from sklearn.ensemble import BaggingClassifier\n",
        "from sklearn.tree import DecisionTreeClassifier\n",
        "from sklearn.metrics import accuracy_score\n",
        "\n",
        "\n",
        "dt_clf = DecisionTreeClassifier(random_state=42)\n",
        "dt_clf.fit(X_train, y_train)\n",
        "y_pred_tree = dt_clf.predict(X_test)\n",
        "print('DecisionTreeClassifier',accuracy_score(y_test, y_pred_tree))\n",
        "\n",
        "\n",
        "bag_clf = BaggingClassifier(dt_clf , n_estimators=500 , max_samples= 100 , n_jobs=-1 ,bootstrap=True , random_state=42)\n",
        "bag_clf.fit(X_train , y_train)\n",
        "y_pred = bag_clf.predict(X_test)\n",
        "print('BaggingClassifier',accuracy_score(y_test, y_pred))\n",
        "\n",
        "\n"
      ],
      "metadata": {
        "id": "6xf3ISc3zYWu",
        "colab": {
          "base_uri": "https://localhost:8080/"
        },
        "outputId": "a8d896b4-776b-4587-cf49-2fac4494a53e"
      },
      "execution_count": null,
      "outputs": [
        {
          "output_type": "stream",
          "name": "stdout",
          "text": [
            "DecisionTreeClassifier 0.856\n",
            "BaggingClassifier 0.904\n"
          ]
        }
      ]
    },
    {
      "cell_type": "markdown",
      "source": [
        "using One single decision tree"
      ],
      "metadata": {
        "id": "JAN-TwGeHmsr"
      }
    },
    {
      "cell_type": "code",
      "source": [
        "tree_clf = DecisionTreeClassifier(random_state=42)\n",
        "tree_clf.fit(X_train, y_train)\n",
        "y_pred_tree = tree_clf.predict(X_test)\n",
        "print(accuracy_score(y_test, y_pred_tree))"
      ],
      "metadata": {
        "id": "ruRE_MF9HlgA",
        "colab": {
          "base_uri": "https://localhost:8080/"
        },
        "outputId": "961dcfb6-e7d5-4ebe-814a-5166adaf5ec2"
      },
      "execution_count": null,
      "outputs": [
        {
          "output_type": "stream",
          "name": "stdout",
          "text": [
            "0.856\n"
          ]
        }
      ]
    },
    {
      "cell_type": "code",
      "source": [
        "from matplotlib.colors import ListedColormap\n",
        "import matplotlib.pyplot as plt\n",
        "import numpy as np\n",
        "\n",
        "\n",
        "def plot_decision_boundary(clf, X, y, axes=[-1.5, 2.5, -1, 1.5], alpha=0.5, contour=True):\n",
        "    x1s = np.linspace(axes[0], axes[1], 100)\n",
        "    x2s = np.linspace(axes[2], axes[3], 100)\n",
        "    x1, x2 = np.meshgrid(x1s, x2s)\n",
        "    X_new = np.c_[x1.ravel(), x2.ravel()]\n",
        "    y_pred = clf.predict(X_new).reshape(x1.shape)\n",
        "    custom_cmap = ListedColormap(['#fafab0','#9898ff','#a0faa0'])\n",
        "    plt.contourf(x1, x2, y_pred, alpha=0.3, cmap=custom_cmap)\n",
        "    if contour:\n",
        "        custom_cmap2 = ListedColormap(['#7d7d58','#4c4c7f','#507d50'])\n",
        "        plt.contour(x1, x2, y_pred, cmap=custom_cmap2, alpha=0.8)\n",
        "    plt.plot(X[:, 0][y==0], X[:, 1][y==0], \"yo\", alpha=alpha)\n",
        "    plt.plot(X[:, 0][y==1], X[:, 1][y==1], \"bs\", alpha=alpha)\n",
        "    plt.axis(axes)\n",
        "    plt.xlabel(r\"$x_1$\", fontsize=18)\n",
        "    plt.ylabel(r\"$x_2$\", fontsize=18, rotation=0)\n",
        "\n",
        "plt.figure(figsize=(11,4))\n",
        "plt.subplot(121)\n",
        "plot_decision_boundary(tree_clf, X, y)\n",
        "plt.title(\"Decision Tree\", fontsize=14)\n",
        "plt.subplot(122)\n",
        "plot_decision_boundary(bag_clf, X, y)\n",
        "plt.title(\"Decision Trees with Bagging\", fontsize=14)\n",
        "# save_fig(\"decision_tree_without_and_with_bagging_plot\")\n",
        "plt.show()"
      ],
      "metadata": {
        "id": "92NaSv3zHvP8",
        "colab": {
          "base_uri": "https://localhost:8080/",
          "height": 304
        },
        "outputId": "3bfeb203-3e85-4f20-deb1-67cdb5809640"
      },
      "execution_count": null,
      "outputs": [
        {
          "output_type": "display_data",
          "data": {
            "text/plain": [
              "<Figure size 792x288 with 2 Axes>"
            ],
            "image/png": "[encoded data removed]"
          },
          "metadata": {
            "needs_background": "light"
          }
        }
      ]
    },
    {
      "cell_type": "markdown",
      "source": [
        "compares the decision boundary of a single Decision Tree with the decision\n",
        "boundary of a bagging ensemble of 500 trees (from the preceding code), both\n",
        "trained on the moons dataset. As you can see, the ensemble’s predictions will likely\n",
        "generalize much better than the single Decision Tree’s predictions: the ensemble has a\n",
        "comparable bias but a smaller variance (it makes roughly the same number of errors\n",
        "on the training set, but the decision boundary is less irregular)."
      ],
      "metadata": {
        "id": "oGnQYAEUHEjj"
      }
    },
    {
      "cell_type": "markdown",
      "source": [
        "**Out Of Bag Evaluations**"
      ],
      "metadata": {
        "id": "kqPiQXTtL1Po"
      }
    },
    {
      "cell_type": "markdown",
      "source": [
        "With bagging, some instances may be sampled several times for any given predictor,\n",
        "while others may not be sampled at all. By default a BaggingClassifier samples m\n",
        "training instances with replacement (bootstrap=True), where m is the size of the\n",
        "training set. This means that only about 63% of the training instances are sampled on\n",
        "average for each predictor.6 The remaining 37% of the training instances that are not\n",
        "sampled are called out-of-bag (oob) instances. Note that they are not the same 37%\n",
        "for all predictors.\n",
        "\n",
        "\n",
        "Since a predictor never sees the oob instances during training, it can be evaluated on\n",
        "these instances, without the need for a separate validation set. You can evaluate the\n",
        "ensemble itself by averaging out the oob evaluations of each predictor.\n",
        "In Scikit-Learn, you can set oob_score=True when creating a BaggingClassifier to\n",
        "request an automatic oob evaluation after training. The following code demonstrates\n",
        "this."
      ],
      "metadata": {
        "id": "Yb0BPK6rL8XT"
      }
    },
    {
      "cell_type": "code",
      "source": [
        "bag_clf = BaggingClassifier(dt_clf , n_estimators=500 , max_samples= 100 , n_jobs=-1 ,bootstrap=True , oob_score=True, random_state=42 )\n",
        "bag_clf.fit(X_train , y_train)\n",
        "bag_clf.oob_score_\n"
      ],
      "metadata": {
        "id": "IiAr-sccL7jE",
        "colab": {
          "base_uri": "https://localhost:8080/"
        },
        "outputId": "5cf6d2d2-d96b-42ba-dd84-327756e7eec5"
      },
      "execution_count": null,
      "outputs": [
        {
          "output_type": "execute_result",
          "data": {
            "text/plain": [
              "0.9253333333333333"
            ]
          },
          "metadata": {},
          "execution_count": 9
        }
      ]
    },
    {
      "cell_type": "code",
      "source": [
        "y_pred = bag_clf.predict(X_test)\n",
        "print(accuracy_score(y_test, y_pred))"
      ],
      "metadata": {
        "id": "fVYlOKR4zYba",
        "colab": {
          "base_uri": "https://localhost:8080/"
        },
        "outputId": "39649aee-0b84-41ce-832a-293bb4bf305f"
      },
      "execution_count": null,
      "outputs": [
        {
          "output_type": "stream",
          "name": "stdout",
          "text": [
            "0.904\n"
          ]
        }
      ]
    },
    {
      "cell_type": "markdown",
      "source": [
        "The oob decision function for each training instance is also available through the\n",
        "oob_decision_function_ variable. In this case (since the base estimator has a pre\n",
        "dict_proba() method) the decision function returns the class probabilities for each\n",
        "training instance. For example, the oob evaluation estimates that the first training\n",
        "instance has a 68.25% probability of belonging to the positive class (and 31.75% of\n",
        "belonging to the negative class):"
      ],
      "metadata": {
        "id": "wuMwheWIM8RK"
      }
    },
    {
      "cell_type": "code",
      "source": [
        "bag_clf.oob_decision_function_\n",
        "# bag_clf.oob_decision_function_.round()"
      ],
      "metadata": {
        "id": "QLGT8dQ-zYcw",
        "colab": {
          "base_uri": "https://localhost:8080/"
        },
        "outputId": "9cc3515d-eda0-4466-ec7c-ce018c6a6188"
      },
      "execution_count": null,
      "outputs": [
        {
          "output_type": "execute_result",
          "data": {
            "text/plain": [
              "array([[0.35579515, 0.64420485],\n",
              "       [0.43513514, 0.56486486],\n",
              "       [1.        , 0.        ],\n",
              "       [0.01030928, 0.98969072],\n",
              "       [0.03174603, 0.96825397],\n",
              "       [0.07672634, 0.92327366],\n",
              "       [0.39189189, 0.60810811],\n",
              "       [0.06145251, 0.93854749],\n",
              "       [0.92689295, 0.07310705],\n",
              "       [0.88205128, 0.11794872],\n",
              "       [0.59850374, 0.40149626],\n",
              "       [0.04896907, 0.95103093],\n",
              "       [0.7565445 , 0.2434555 ],\n",
              "       [0.81377551, 0.18622449],\n",
              "       [0.88528678, 0.11471322],\n",
              "       [0.07407407, 0.92592593],\n",
              "       [0.04738155, 0.95261845],\n",
              "       [0.92051282, 0.07948718],\n",
              "       [0.69974555, 0.30025445],\n",
              "       [0.94358974, 0.05641026],\n",
              "       [0.06100796, 0.93899204],\n",
              "       [0.224     , 0.776     ],\n",
              "       [0.9125964 , 0.0874036 ],\n",
              "       [0.98746867, 0.01253133],\n",
              "       [0.95967742, 0.04032258],\n",
              "       [0.        , 1.        ],\n",
              "       [0.94255875, 0.05744125],\n",
              "       [1.        , 0.        ],\n",
              "       [0.03466667, 0.96533333],\n",
              "       [0.7020202 , 0.2979798 ],\n",
              "       [0.        , 1.        ],\n",
              "       [1.        , 0.        ],\n",
              "       [0.01262626, 0.98737374],\n",
              "       [0.07772021, 0.92227979],\n",
              "       [0.09350649, 0.90649351],\n",
              "       [0.97889182, 0.02110818],\n",
              "       [0.01827676, 0.98172324],\n",
              "       [0.53191489, 0.46808511],\n",
              "       [0.02122016, 0.97877984],\n",
              "       [0.98979592, 0.01020408],\n",
              "       [0.10242588, 0.89757412],\n",
              "       [0.33773087, 0.66226913],\n",
              "       [0.98684211, 0.01315789],\n",
              "       [0.98714653, 0.01285347],\n",
              "       [0.00755668, 0.99244332],\n",
              "       [1.        , 0.        ],\n",
              "       [1.        , 0.        ],\n",
              "       [0.05691057, 0.94308943],\n",
              "       [0.97727273, 0.02272727],\n",
              "       [0.05420054, 0.94579946],\n",
              "       [0.9443038 , 0.0556962 ],\n",
              "       [0.78740157, 0.21259843],\n",
              "       [0.92467532, 0.07532468],\n",
              "       [0.81794195, 0.18205805],\n",
              "       [0.01758794, 0.98241206],\n",
              "       [0.09511568, 0.90488432],\n",
              "       [0.78296703, 0.21703297],\n",
              "       [0.01897019, 0.98102981],\n",
              "       [0.01344086, 0.98655914],\n",
              "       [0.01492537, 0.98507463],\n",
              "       [0.82170543, 0.17829457],\n",
              "       [0.66666667, 0.33333333],\n",
              "       [0.71900826, 0.28099174],\n",
              "       [0.9921875 , 0.0078125 ],\n",
              "       [0.01049869, 0.98950131],\n",
              "       [0.7513369 , 0.2486631 ],\n",
              "       [0.97727273, 0.02272727],\n",
              "       [0.99230769, 0.00769231],\n",
              "       [0.60367454, 0.39632546],\n",
              "       [0.98461538, 0.01538462],\n",
              "       [0.35824742, 0.64175258],\n",
              "       [0.30666667, 0.69333333],\n",
              "       [0.41621622, 0.58378378],\n",
              "       [0.72922252, 0.27077748],\n",
              "       [0.        , 1.        ],\n",
              "       [0.25      , 0.75      ],\n",
              "       [0.9015544 , 0.0984456 ],\n",
              "       [1.        , 0.        ],\n",
              "       [0.0302267 , 0.9697733 ],\n",
              "       [0.95844156, 0.04155844],\n",
              "       [0.00512821, 0.99487179],\n",
              "       [0.18441558, 0.81558442],\n",
              "       [0.13554987, 0.86445013],\n",
              "       [0.40502793, 0.59497207],\n",
              "       [0.98704663, 0.01295337],\n",
              "       [0.04381443, 0.95618557],\n",
              "       [0.67307692, 0.32692308],\n",
              "       [0.07341772, 0.92658228],\n",
              "       [0.01578947, 0.98421053],\n",
              "       [0.        , 1.        ],\n",
              "       [0.38046272, 0.61953728],\n",
              "       [1.        , 0.        ],\n",
              "       [0.01754386, 0.98245614],\n",
              "       [0.05277045, 0.94722955],\n",
              "       [0.01028278, 0.98971722],\n",
              "       [0.80851064, 0.19148936],\n",
              "       [0.7115903 , 0.2884097 ],\n",
              "       [0.07407407, 0.92592593],\n",
              "       [1.        , 0.        ],\n",
              "       [0.34473684, 0.65526316],\n",
              "       [0.66402116, 0.33597884],\n",
              "       [0.01542416, 0.98457584],\n",
              "       [0.12266667, 0.87733333],\n",
              "       [0.42746114, 0.57253886],\n",
              "       [0.97142857, 0.02857143],\n",
              "       [0.03899721, 0.96100279],\n",
              "       [0.97493734, 0.02506266],\n",
              "       [0.44235925, 0.55764075],\n",
              "       [0.27968338, 0.72031662],\n",
              "       [0.9974026 , 0.0025974 ],\n",
              "       [0.24403183, 0.75596817],\n",
              "       [0.85233161, 0.14766839],\n",
              "       [0.26329114, 0.73670886],\n",
              "       [0.77653631, 0.22346369],\n",
              "       [0.9893617 , 0.0106383 ],\n",
              "       [0.98663102, 0.01336898],\n",
              "       [0.        , 1.        ],\n",
              "       [0.        , 1.        ],\n",
              "       [0.48849105, 0.51150895],\n",
              "       [0.99162011, 0.00837989],\n",
              "       [0.06793478, 0.93206522],\n",
              "       [0.9895288 , 0.0104712 ],\n",
              "       [0.97704082, 0.02295918],\n",
              "       [1.        , 0.        ],\n",
              "       [0.95561358, 0.04438642],\n",
              "       [0.97777778, 0.02222222],\n",
              "       [0.03580563, 0.96419437],\n",
              "       [0.95760599, 0.04239401],\n",
              "       [0.96508728, 0.03491272],\n",
              "       [0.02887139, 0.97112861],\n",
              "       [0.23306233, 0.76693767],\n",
              "       [0.85529716, 0.14470284],\n",
              "       [0.4015544 , 0.5984456 ],\n",
              "       [0.91948052, 0.08051948],\n",
              "       [0.002457  , 0.997543  ],\n",
              "       [0.0265252 , 0.9734748 ],\n",
              "       [0.82849604, 0.17150396],\n",
              "       [0.76863753, 0.23136247],\n",
              "       [0.5390625 , 0.4609375 ],\n",
              "       [0.88664987, 0.11335013],\n",
              "       [0.93814433, 0.06185567],\n",
              "       [0.1171875 , 0.8828125 ],\n",
              "       [0.76923077, 0.23076923],\n",
              "       [0.08136483, 0.91863517],\n",
              "       [0.01282051, 0.98717949],\n",
              "       [0.1227154 , 0.8772846 ],\n",
              "       [0.73969072, 0.26030928],\n",
              "       [0.96946565, 0.03053435],\n",
              "       [1.        , 0.        ],\n",
              "       [0.03403141, 0.96596859],\n",
              "       [0.00265957, 0.99734043],\n",
              "       [0.0620155 , 0.9379845 ],\n",
              "       [0.02325581, 0.97674419],\n",
              "       [0.9924812 , 0.0075188 ],\n",
              "       [0.98373984, 0.01626016],\n",
              "       [0.86449864, 0.13550136],\n",
              "       [0.99730458, 0.00269542],\n",
              "       [1.        , 0.        ],\n",
              "       [0.87598945, 0.12401055],\n",
              "       [0.00775194, 0.99224806],\n",
              "       [0.64925373, 0.35074627],\n",
              "       [0.32994924, 0.67005076],\n",
              "       [0.07336957, 0.92663043],\n",
              "       [0.01534527, 0.98465473],\n",
              "       [0.38961039, 0.61038961],\n",
              "       [1.        , 0.        ],\n",
              "       [0.97554348, 0.02445652],\n",
              "       [0.        , 1.        ],\n",
              "       [1.        , 0.        ],\n",
              "       [0.07027027, 0.92972973],\n",
              "       [0.00520833, 0.99479167],\n",
              "       [0.92553191, 0.07446809],\n",
              "       [0.02077922, 0.97922078],\n",
              "       [0.        , 1.        ],\n",
              "       [1.        , 0.        ],\n",
              "       [0.04347826, 0.95652174],\n",
              "       [0.82994924, 0.17005076],\n",
              "       [0.90526316, 0.09473684],\n",
              "       [0.033241  , 0.966759  ],\n",
              "       [0.94559585, 0.05440415],\n",
              "       [0.90185676, 0.09814324],\n",
              "       [0.9611399 , 0.0388601 ],\n",
              "       [0.01312336, 0.98687664],\n",
              "       [0.01856764, 0.98143236],\n",
              "       [0.99212598, 0.00787402],\n",
              "       [0.24427481, 0.75572519],\n",
              "       [0.98958333, 0.01041667],\n",
              "       [0.12634409, 0.87365591],\n",
              "       [0.01808786, 0.98191214],\n",
              "       [0.98969072, 0.01030928],\n",
              "       [0.        , 1.        ],\n",
              "       [0.19945355, 0.80054645],\n",
              "       [0.88713911, 0.11286089],\n",
              "       [0.90600522, 0.09399478],\n",
              "       [0.61741425, 0.38258575],\n",
              "       [0.67733333, 0.32266667],\n",
              "       [0.03826531, 0.96173469],\n",
              "       [0.2421875 , 0.7578125 ],\n",
              "       [0.98933333, 0.01066667],\n",
              "       [0.92875989, 0.07124011],\n",
              "       [0.9171123 , 0.0828877 ],\n",
              "       [0.98387097, 0.01612903],\n",
              "       [0.04232804, 0.95767196],\n",
              "       [0.01041667, 0.98958333],\n",
              "       [0.09974425, 0.90025575],\n",
              "       [0.5127551 , 0.4872449 ],\n",
              "       [0.        , 1.        ],\n",
              "       [0.02046036, 0.97953964],\n",
              "       [0.97474747, 0.02525253],\n",
              "       [0.08918919, 0.91081081],\n",
              "       [0.12144703, 0.87855297],\n",
              "       [0.88549618, 0.11450382],\n",
              "       [0.04557641, 0.95442359],\n",
              "       [0.37073171, 0.62926829],\n",
              "       [0.01355014, 0.98644986],\n",
              "       [1.        , 0.        ],\n",
              "       [0.01302083, 0.98697917],\n",
              "       [0.01369863, 0.98630137],\n",
              "       [0.91052632, 0.08947368],\n",
              "       [0.9012987 , 0.0987013 ],\n",
              "       [0.95897436, 0.04102564],\n",
              "       [0.0188172 , 0.9811828 ],\n",
              "       [0.05670103, 0.94329897],\n",
              "       [0.96524064, 0.03475936],\n",
              "       [0.11671088, 0.88328912],\n",
              "       [0.        , 1.        ],\n",
              "       [0.22955145, 0.77044855],\n",
              "       [0.97333333, 0.02666667],\n",
              "       [0.84594595, 0.15405405],\n",
              "       [0.11948052, 0.88051948],\n",
              "       [0.71621622, 0.28378378],\n",
              "       [0.92838875, 0.07161125],\n",
              "       [0.15860215, 0.84139785],\n",
              "       [0.13953488, 0.86046512],\n",
              "       [0.98982188, 0.01017812],\n",
              "       [0.        , 1.        ],\n",
              "       [0.01358696, 0.98641304],\n",
              "       [0.01315789, 0.98684211],\n",
              "       [0.38324873, 0.61675127],\n",
              "       [0.85263158, 0.14736842],\n",
              "       [0.04113111, 0.95886889],\n",
              "       [0.9893617 , 0.0106383 ],\n",
              "       [0.85236769, 0.14763231],\n",
              "       [0.0025641 , 0.9974359 ],\n",
              "       [0.76363636, 0.23636364],\n",
              "       [0.98737374, 0.01262626],\n",
              "       [0.00527704, 0.99472296],\n",
              "       [0.98971722, 0.01028278],\n",
              "       [0.06182796, 0.93817204],\n",
              "       [0.01044386, 0.98955614],\n",
              "       [0.11653117, 0.88346883],\n",
              "       [0.24274406, 0.75725594],\n",
              "       [0.8956743 , 0.1043257 ],\n",
              "       [0.06169666, 0.93830334],\n",
              "       [0.98694517, 0.01305483],\n",
              "       [0.59850374, 0.40149626],\n",
              "       [0.08080808, 0.91919192],\n",
              "       [0.616     , 0.384     ],\n",
              "       [0.88688946, 0.11311054],\n",
              "       [0.00787402, 0.99212598],\n",
              "       [0.99492386, 0.00507614],\n",
              "       [0.01041667, 0.98958333],\n",
              "       [0.        , 1.        ],\n",
              "       [0.77114428, 0.22885572],\n",
              "       [0.        , 1.        ],\n",
              "       [0.98918919, 0.01081081],\n",
              "       [0.10649351, 0.89350649],\n",
              "       [0.73846154, 0.26153846],\n",
              "       [0.13513514, 0.86486486],\n",
              "       [0.9972973 , 0.0027027 ],\n",
              "       [0.90104167, 0.09895833],\n",
              "       [0.01285347, 0.98714653],\n",
              "       [0.05540897, 0.94459103],\n",
              "       [0.13350785, 0.86649215],\n",
              "       [0.08695652, 0.91304348],\n",
              "       [0.        , 1.        ],\n",
              "       [0.96899225, 0.03100775],\n",
              "       [0.84615385, 0.15384615],\n",
              "       [0.15013405, 0.84986595],\n",
              "       [0.93384224, 0.06615776],\n",
              "       [0.04221636, 0.95778364],\n",
              "       [0.61265823, 0.38734177],\n",
              "       [0.13917526, 0.86082474],\n",
              "       [0.95064935, 0.04935065],\n",
              "       [0.90027701, 0.09972299],\n",
              "       [0.00789474, 0.99210526],\n",
              "       [0.94041451, 0.05958549],\n",
              "       [0.8987013 , 0.1012987 ],\n",
              "       [0.        , 1.        ],\n",
              "       [0.05053191, 0.94946809],\n",
              "       [1.        , 0.        ],\n",
              "       [0.03183024, 0.96816976],\n",
              "       [0.98963731, 0.01036269],\n",
              "       [0.09189189, 0.90810811],\n",
              "       [0.88235294, 0.11764706],\n",
              "       [1.        , 0.        ],\n",
              "       [0.01066667, 0.98933333],\n",
              "       [0.0458221 , 0.9541779 ],\n",
              "       [0.688     , 0.312     ],\n",
              "       [0.        , 1.        ],\n",
              "       [1.        , 0.        ],\n",
              "       [0.67435897, 0.32564103],\n",
              "       [0.86956522, 0.13043478],\n",
              "       [0.99230769, 0.00769231],\n",
              "       [0.66753927, 0.33246073],\n",
              "       [0.47733333, 0.52266667],\n",
              "       [0.01362398, 0.98637602],\n",
              "       [0.82531646, 0.17468354],\n",
              "       [0.01591512, 0.98408488],\n",
              "       [1.        , 0.        ],\n",
              "       [0.77513228, 0.22486772],\n",
              "       [0.9871134 , 0.0128866 ],\n",
              "       [1.        , 0.        ],\n",
              "       [0.84771574, 0.15228426],\n",
              "       [0.27720207, 0.72279793],\n",
              "       [0.1689008 , 0.8310992 ],\n",
              "       [0.2382199 , 0.7617801 ],\n",
              "       [0.        , 1.        ],\n",
              "       [0.75065617, 0.24934383],\n",
              "       [0.90649351, 0.09350649],\n",
              "       [0.05882353, 0.94117647],\n",
              "       [1.        , 0.        ],\n",
              "       [0.97837838, 0.02162162],\n",
              "       [0.98992443, 0.01007557],\n",
              "       [0.00507614, 0.99492386],\n",
              "       [0.06887755, 0.93112245],\n",
              "       [0.91282051, 0.08717949],\n",
              "       [0.93782383, 0.06217617],\n",
              "       [1.        , 0.        ],\n",
              "       [0.24129353, 0.75870647],\n",
              "       [0.98933333, 0.01066667],\n",
              "       [0.13      , 0.87      ],\n",
              "       [0.95103093, 0.04896907],\n",
              "       [0.04522613, 0.95477387],\n",
              "       [0.98777506, 0.01222494],\n",
              "       [0.99479167, 0.00520833],\n",
              "       [0.98271605, 0.01728395],\n",
              "       [0.        , 1.        ],\n",
              "       [0.93882979, 0.06117021],\n",
              "       [0.01591512, 0.98408488],\n",
              "       [0.06958763, 0.93041237],\n",
              "       [0.05637255, 0.94362745],\n",
              "       [0.        , 1.        ],\n",
              "       [1.        , 0.        ],\n",
              "       [0.98913043, 0.01086957],\n",
              "       [0.        , 1.        ],\n",
              "       [0.96524064, 0.03475936],\n",
              "       [0.0802139 , 0.9197861 ],\n",
              "       [0.9872449 , 0.0127551 ],\n",
              "       [0.1875    , 0.8125    ],\n",
              "       [0.0156658 , 0.9843342 ],\n",
              "       [0.04569892, 0.95430108],\n",
              "       [0.        , 1.        ],\n",
              "       [0.81693989, 0.18306011],\n",
              "       [0.07518797, 0.92481203],\n",
              "       [0.1292876 , 0.8707124 ],\n",
              "       [1.        , 0.        ],\n",
              "       [0.92708333, 0.07291667],\n",
              "       [0.22751323, 0.77248677],\n",
              "       [0.93939394, 0.06060606],\n",
              "       [0.0536193 , 0.9463807 ],\n",
              "       [0.12834225, 0.87165775],\n",
              "       [1.        , 0.        ],\n",
              "       [0.92183288, 0.07816712],\n",
              "       [0.61170213, 0.38829787],\n",
              "       [0.86863271, 0.13136729],\n",
              "       [1.        , 0.        ],\n",
              "       [0.02150538, 0.97849462],\n",
              "       [0.94666667, 0.05333333],\n",
              "       [0.0298103 , 0.9701897 ],\n",
              "       [0.13874346, 0.86125654],\n",
              "       [0.91435768, 0.08564232],\n",
              "       [1.        , 0.        ],\n",
              "       [0.0859375 , 0.9140625 ],\n",
              "       [0.69086022, 0.30913978]])"
            ]
          },
          "metadata": {},
          "execution_count": 11
        }
      ]
    },
    {
      "cell_type": "markdown",
      "source": [
        "# **Random Forest classifier**"
      ],
      "metadata": {
        "id": "aDbs9O5owM2e"
      }
    },
    {
      "cell_type": "markdown",
      "source": [
        "a Random Forest is an ensemble of Decision Trees, generally\n",
        "trained via the bagging method (or sometimes pasting), typically with max_samples\n",
        "set to the size of the training set. Instead of building a BaggingClassifier and passing\n",
        "it a DecisionTreeClassifier, you can instead use the RandomForestClassifier\n",
        "class, which is more convenient and optimized for Decision Trees10 (similarly, there is\n",
        "a RandomForestRegressor class for regression tasks)"
      ],
      "metadata": {
        "id": "TJfr5WSmwQTE"
      }
    },
    {
      "cell_type": "code",
      "source": [
        "bag_clf = BaggingClassifier(\n",
        "    DecisionTreeClassifier(splitter=\"random\", max_leaf_nodes=16, random_state=42),\n",
        "    n_estimators=500, max_samples=1.0, bootstrap=True, n_jobs=-1, random_state=42)\n",
        "accuracy_score(y_test, y_pred)\n"
      ],
      "metadata": {
        "id": "GMMZOIqczYm8",
        "colab": {
          "base_uri": "https://localhost:8080/"
        },
        "outputId": "41166025-ada8-48f0-a0bf-9824491cf857"
      },
      "execution_count": null,
      "outputs": [
        {
          "output_type": "execute_result",
          "data": {
            "text/plain": [
              "0.912"
            ]
          },
          "metadata": {},
          "execution_count": 13
        }
      ]
    },
    {
      "cell_type": "markdown",
      "source": [
        "the same code in another way , the same result"
      ],
      "metadata": {
        "id": "hRJjNG8rwzPj"
      }
    },
    {
      "cell_type": "code",
      "source": [
        "from sklearn.ensemble import RandomForestClassifier\n",
        "\n",
        "rf_clf = RandomForestClassifier(n_estimators=500, max_leaf_nodes=16 , n_jobs=-1, random_state=42 )\n",
        "rf_clf.fit(X_train , y_train)\n",
        "y_pred = rf_clf.predict(X_test)\n",
        "accuracy_score(y_test, y_pred)\n"
      ],
      "metadata": {
        "id": "kaDwNCqwzYhS",
        "colab": {
          "base_uri": "https://localhost:8080/"
        },
        "outputId": "e0371d8a-f920-4dd7-f993-6a741197f568"
      },
      "execution_count": null,
      "outputs": [
        {
          "output_type": "execute_result",
          "data": {
            "text/plain": [
              "0.912"
            ]
          },
          "metadata": {},
          "execution_count": 12
        }
      ]
    },
    {
      "cell_type": "markdown",
      "source": [
        "# **Extra-Trees Classifier**"
      ],
      "metadata": {
        "id": "dXssoLGWzRZt"
      }
    },
    {
      "cell_type": "markdown",
      "source": [
        "When you are growing a tree in a Random Forest, at each node only a random subset\n",
        "of the features is considered for splitting . It is possible to make\n",
        "trees even more random by also using random thresholds for each feature rather than\n",
        "searching for the best possible thresholds (like regular Decision Trees do).\n",
        "A forest of such extremely random trees is simply called an Extremely Randomized\n",
        "Trees ensemble12 (or Extra-Trees for short). Once again, this trades more bias for a\n",
        "lower variance. It also makes Extra-Trees much faster to train than regular Random\n",
        "Forests since finding the best possible threshold for each feature at every node is one\n",
        "of the most time-consuming tasks of growing a tree."
      ],
      "metadata": {
        "id": "aECNIV_7zvfs"
      }
    },
    {
      "cell_type": "code",
      "source": [
        "from sklearn.ensemble import ExtraTreesClassifier\n",
        "\n",
        "extree_clf = ExtraTreesClassifier(n_estimators=500, max_leaf_nodes=16 , n_jobs=-1, random_state=42 )\n",
        "extree_clf.fit(X_train , y_train)\n",
        "y_pred = extree_clf.predict(X_test)\n",
        "accuracy_score(y_test, y_pred)\n"
      ],
      "metadata": {
        "id": "P71E25jTzRmc",
        "colab": {
          "base_uri": "https://localhost:8080/"
        },
        "outputId": "ffae10d7-b497-4862-e3b1-b8ee39b0a1d1"
      },
      "execution_count": null,
      "outputs": [
        {
          "output_type": "execute_result",
          "data": {
            "text/plain": [
              "0.912"
            ]
          },
          "metadata": {},
          "execution_count": 14
        }
      ]
    },
    {
      "cell_type": "markdown",
      "source": [
        "# **Features importance with Randome forest**"
      ],
      "metadata": {
        "id": "r3BUyuahz3no"
      }
    },
    {
      "cell_type": "code",
      "source": [
        "from pandas.core.common import random_state\n",
        "from sklearn.datasets import load_iris\n",
        "\n",
        "iris = load_iris()\n",
        "rf_clf = RandomForestClassifier (random_state = 42 , n_estimators=100)\n",
        "rf_clf.fit(iris['data'], iris['target'])\n",
        "for _feature, score in zip (iris.feature_names,rf_clf.feature_importances_) :\n",
        "  print ( _feature ,score) "
      ],
      "metadata": {
        "id": "vsjclYh3zRoC",
        "colab": {
          "base_uri": "https://localhost:8080/"
        },
        "outputId": "7db76cdc-3861-4ea1-b03a-3256eb086c67"
      },
      "execution_count": null,
      "outputs": [
        {
          "output_type": "stream",
          "name": "stdout",
          "text": [
            "sepal length (cm) 0.10612761987750428\n",
            "sepal width (cm) 0.02167809317736852\n",
            "petal length (cm) 0.4361295069034437\n",
            "petal width (cm) 0.43606478004168353\n"
          ]
        }
      ]
    },
    {
      "cell_type": "markdown",
      "source": [
        "It seems that the most important features are the\n",
        "petal length (44%) and width (42%), while sepal length and width are rather unimportant\n",
        "in comparison (11% and 2%, respectively)."
      ],
      "metadata": {
        "id": "a8hk-Yq32RqQ"
      }
    },
    {
      "cell_type": "markdown",
      "source": [
        "# **Boosting**"
      ],
      "metadata": {
        "id": "KOajDDXZPmjg"
      }
    },
    {
      "cell_type": "markdown",
      "source": [
        "## AdaBoost"
      ],
      "metadata": {
        "id": "jAA1Gs1cmmGl"
      }
    },
    {
      "cell_type": "code",
      "source": [
        "from sklearn.ensemble import AdaBoostClassifier\n",
        "from sklearn.tree import DecisionTreeClassifier\n",
        "\n",
        "ada_clf= AdaBoostClassifier( DecisionTreeClassifier(max_depth=1),\n",
        "                            n_estimators=200,\n",
        "                            algorithm='SAMME.R',\n",
        "                            learning_rate=0.5)\n",
        "ada_clf.fit(X_train,y_train)"
      ],
      "metadata": {
        "id": "h_JT57dszRtt",
        "colab": {
          "base_uri": "https://localhost:8080/"
        },
        "outputId": "b565ce93-0cdb-4fb5-822e-9d8753ea94a0"
      },
      "execution_count": null,
      "outputs": [
        {
          "output_type": "execute_result",
          "data": {
            "text/plain": [
              "AdaBoostClassifier(base_estimator=DecisionTreeClassifier(max_depth=1),\n",
              "                   learning_rate=0.5, n_estimators=200)"
            ]
          },
          "metadata": {},
          "execution_count": 16
        }
      ]
    },
    {
      "cell_type": "code",
      "source": [
        "plot_decision_boundary(ada_clf, X,y)"
      ],
      "metadata": {
        "id": "S3-BPvlwoAYH",
        "colab": {
          "base_uri": "https://localhost:8080/",
          "height": 291
        },
        "outputId": "958f93d4-018f-428b-d99d-84fc52606ca2"
      },
      "execution_count": null,
      "outputs": [
        {
          "output_type": "display_data",
          "data": {
            "text/plain": [
              "<Figure size 432x288 with 1 Axes>"
            ],
            "image/png": "[encoded data removed]"
          },
          "metadata": {
            "needs_background": "light"
          }
        }
      ]
    }
  ]
}